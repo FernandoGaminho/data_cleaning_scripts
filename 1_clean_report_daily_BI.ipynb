{
 "cells": [
  {
   "cell_type": "code",
   "execution_count": 1,
   "id": "79cf3bf0",
   "metadata": {
    "executionInfo": {
     "elapsed": 144,
     "status": "ok",
     "timestamp": 1630988453955,
     "user": {
      "displayName": "Fernando Manuel Gamino Torres",
      "photoUrl": "https://lh3.googleusercontent.com/a-/AOh14GjiYo9mTJNaYFrzccPZp7ueV6HgmH2ahC4tgvQX=s64",
      "userId": "13456855925853612789"
     },
     "user_tz": 300
    },
    "id": "79cf3bf0"
   },
   "outputs": [],
   "source": [
    "from datetime import datetime \n",
    "import pandas as pd\n",
    "import numpy as np\n",
    "import os.path\n",
    "import re\n",
    "import xlrd"
   ]
  },
  {
   "cell_type": "raw",
   "id": "b7b9c3ec",
   "metadata": {},
   "source": [
    "    Clave\n",
    "1 = lunes\n",
    "2 = martes \n",
    "3 = miercoles \n",
    "4 = jueves \n",
    "5 = viernes\n",
    "6 = sabado"
   ]
  },
  {
   "cell_type": "code",
   "execution_count": 2,
   "id": "25ecef6f",
   "metadata": {},
   "outputs": [],
   "source": [
    "fecha = \"01132022\"\n",
    "semana = 2\n",
    "dia = 4\n",
    "fecha_entrega = fecha[2:4]+\"/\"+fecha[:2]+\"/\"+fecha[-4:]"
   ]
  },
  {
   "cell_type": "markdown",
   "id": "0153f9f5",
   "metadata": {
    "id": "0153f9f5"
   },
   "source": [
    "# Carga y preparación de DataFrame\n"
   ]
  },
  {
   "cell_type": "code",
   "execution_count": 3,
   "id": "6ea57752",
   "metadata": {
    "executionInfo": {
     "elapsed": 780,
     "status": "ok",
     "timestamp": 1630988454879,
     "user": {
      "displayName": "Fernando Manuel Gamino Torres",
      "photoUrl": "https://lh3.googleusercontent.com/a-/AOh14GjiYo9mTJNaYFrzccPZp7ueV6HgmH2ahC4tgvQX=s64",
      "userId": "13456855925853612789"
     },
     "user_tz": 300
    },
    "id": "6ea57752"
   },
   "outputs": [],
   "source": [
    "# \"C:\\Users\\FernandoManuelGamino\\Documents\\2_reporte_al_cierre\\Reporte rechazo 14092021.xlsx\"\n",
    "\n",
    "path = \"../2_reporte_al_cierre\"\n",
    "a_file = fecha+\" rechazo.xlsx\"\n",
    "reporte = \"RPT_Rejection_Rabbit\"\n",
    "\n",
    "joined_path = os.path.join(path, a_file)\n",
    "df = pd.read_excel(joined_path,sheet_name=reporte)"
   ]
  },
  {
   "cell_type": "code",
   "execution_count": 4,
   "id": "24fdb5c9",
   "metadata": {},
   "outputs": [
    {
     "data": {
      "text/plain": [
       "(5675, 31)"
      ]
     },
     "execution_count": 4,
     "metadata": {},
     "output_type": "execute_result"
    }
   ],
   "source": [
    "df.shape"
   ]
  },
  {
   "cell_type": "markdown",
   "id": "3538def9",
   "metadata": {
    "id": "3538def9"
   },
   "source": [
    "# Homogenización de motivo de rechazos"
   ]
  },
  {
   "cell_type": "code",
   "execution_count": 5,
   "id": "3ae9722a",
   "metadata": {
    "executionInfo": {
     "elapsed": 50,
     "status": "ok",
     "timestamp": 1630988454892,
     "user": {
      "displayName": "Fernando Manuel Gamino Torres",
      "photoUrl": "https://lh3.googleusercontent.com/a-/AOh14GjiYo9mTJNaYFrzccPZp7ueV6HgmH2ahC4tgvQX=s64",
      "userId": "13456855925853612789"
     },
     "user_tz": 300
    },
    "id": "3ae9722a"
   },
   "outputs": [],
   "source": [
    "df.rename(columns = {'Rejection Reason':'Rejection_Reason'}, inplace = True)"
   ]
  },
  {
   "cell_type": "code",
   "execution_count": 6,
   "id": "1b1ebcc6",
   "metadata": {},
   "outputs": [],
   "source": [
    "df['Fecha de Entrega'] = fecha_entrega"
   ]
  },
  {
   "cell_type": "code",
   "execution_count": 7,
   "id": "ba3b247b",
   "metadata": {},
   "outputs": [],
   "source": [
    "# We consider City as STATE, for practical purposes\n",
    "\n",
    "df.loc[df['City'].str.contains(r'GDL',flags = re.IGNORECASE),'City'] = \"Jalisco\"\n",
    "df.loc[df['City'].str.contains(r'LEON',flags = re.IGNORECASE),'City'] = \"Guanajuato\"\n",
    "df.loc[df['City'].str.contains(r'Toluca',flags = re.IGNORECASE),'City'] = \"Estado de Mexico\""
   ]
  },
  {
   "cell_type": "code",
   "execution_count": 8,
   "id": "2b9a6280",
   "metadata": {},
   "outputs": [],
   "source": [
    "# We consider Region as CEDIS, for practical purposes\n",
    "\n",
    "df.loc[df['City'].str.contains(r'Jalisco',flags = re.IGNORECASE),'Region'] = \"Guadalajara\"\n",
    "df.loc[df['City'].str.contains(r'Guanajuato',flags = re.IGNORECASE),'Region'] = \"Leon\""
   ]
  },
  {
   "cell_type": "code",
   "execution_count": 9,
   "id": "bc935ce9",
   "metadata": {},
   "outputs": [],
   "source": [
    "df['Día'] = dia\n",
    "df['Semana'] = semana"
   ]
  },
  {
   "cell_type": "code",
   "execution_count": 10,
   "id": "be087e2b",
   "metadata": {},
   "outputs": [],
   "source": [
    "# OFICINA COMERCIAL\n",
    "\n",
    "# Carga de DF\n",
    "# \"C:\\Users\\FernandoManuelGamino\\Documents\\10_estructura_organizacional\\1_supervisor_preventa.xlsx\"\n",
    "\n",
    "path = \"../10_estructura_organizacional\"\n",
    "a_file = \"1_supervisor_preventa.xlsx\"\n",
    "reporte = \"supervisor_preventa\"\n",
    "\n",
    "joined_path = os.path.join(path, a_file)\n",
    "df2 = pd.read_excel(joined_path,sheet_name=reporte)"
   ]
  },
  {
   "cell_type": "code",
   "execution_count": 11,
   "id": "6ea602d6",
   "metadata": {},
   "outputs": [
    {
     "data": {
      "text/html": [
       "<div>\n",
       "<style scoped>\n",
       "    .dataframe tbody tr th:only-of-type {\n",
       "        vertical-align: middle;\n",
       "    }\n",
       "\n",
       "    .dataframe tbody tr th {\n",
       "        vertical-align: top;\n",
       "    }\n",
       "\n",
       "    .dataframe thead th {\n",
       "        text-align: right;\n",
       "    }\n",
       "</style>\n",
       "<table border=\"1\" class=\"dataframe\">\n",
       "  <thead>\n",
       "    <tr style=\"text-align: right;\">\n",
       "      <th></th>\n",
       "      <th>Preventa</th>\n",
       "      <th>Oficina Comercial</th>\n",
       "    </tr>\n",
       "  </thead>\n",
       "  <tbody>\n",
       "    <tr>\n",
       "      <th>0</th>\n",
       "      <td>PVTacubaya001</td>\n",
       "      <td>Condesa</td>\n",
       "    </tr>\n",
       "    <tr>\n",
       "      <th>1</th>\n",
       "      <td>PVTacubaya002</td>\n",
       "      <td>Condesa</td>\n",
       "    </tr>\n",
       "    <tr>\n",
       "      <th>2</th>\n",
       "      <td>PVTacubaya003</td>\n",
       "      <td>Condesa</td>\n",
       "    </tr>\n",
       "    <tr>\n",
       "      <th>3</th>\n",
       "      <td>PVTacubaya004</td>\n",
       "      <td>Condesa</td>\n",
       "    </tr>\n",
       "    <tr>\n",
       "      <th>4</th>\n",
       "      <td>PVTacubaya005</td>\n",
       "      <td>Condesa</td>\n",
       "    </tr>\n",
       "  </tbody>\n",
       "</table>\n",
       "</div>"
      ],
      "text/plain": [
       "        Preventa Oficina Comercial\n",
       "0  PVTacubaya001           Condesa\n",
       "1  PVTacubaya002           Condesa\n",
       "2  PVTacubaya003           Condesa\n",
       "3  PVTacubaya004           Condesa\n",
       "4  PVTacubaya005           Condesa"
      ]
     },
     "execution_count": 11,
     "metadata": {},
     "output_type": "execute_result"
    }
   ],
   "source": [
    "df2 = df2[[\"Preventa\",\"Oficina Comercial\"]]\n",
    "df2.head()"
   ]
  },
  {
   "cell_type": "code",
   "execution_count": null,
   "id": "1a4001fb",
   "metadata": {},
   "outputs": [],
   "source": []
  },
  {
   "cell_type": "code",
   "execution_count": 12,
   "id": "dbe8c127",
   "metadata": {},
   "outputs": [],
   "source": [
    "# Merge Dataframes\n",
    "df = df.merge(df2, on=\"Preventa\", how=\"left\")"
   ]
  },
  {
   "cell_type": "code",
   "execution_count": 13,
   "id": "f47b27b3",
   "metadata": {},
   "outputs": [],
   "source": [
    "# GERENCIA\n",
    "# \"C:\\Users\\FernandoManuelGamino\\Documents\\10_estructura_organizacional\\gerencias.xlsx\"\n",
    "path = \"../10_estructura_organizacional\"\n",
    "a_file = \"gerencias.xlsx\"\n",
    "reporte = \"division\"\n",
    "\n",
    "joined_path = os.path.join(path, a_file)\n",
    "df3 = pd.read_excel(joined_path,sheet_name=reporte)"
   ]
  },
  {
   "cell_type": "code",
   "execution_count": 14,
   "id": "fc9d7d61",
   "metadata": {},
   "outputs": [
    {
     "data": {
      "text/html": [
       "<div>\n",
       "<style scoped>\n",
       "    .dataframe tbody tr th:only-of-type {\n",
       "        vertical-align: middle;\n",
       "    }\n",
       "\n",
       "    .dataframe tbody tr th {\n",
       "        vertical-align: top;\n",
       "    }\n",
       "\n",
       "    .dataframe thead th {\n",
       "        text-align: right;\n",
       "    }\n",
       "</style>\n",
       "<table border=\"1\" class=\"dataframe\">\n",
       "  <thead>\n",
       "    <tr style=\"text-align: right;\">\n",
       "      <th></th>\n",
       "      <th>Oficina Comercial</th>\n",
       "      <th>Gerencia</th>\n",
       "    </tr>\n",
       "  </thead>\n",
       "  <tbody>\n",
       "    <tr>\n",
       "      <th>0</th>\n",
       "      <td>Coacalco</td>\n",
       "      <td>Valle de Mexico</td>\n",
       "    </tr>\n",
       "    <tr>\n",
       "      <th>1</th>\n",
       "      <td>Condesa</td>\n",
       "      <td>Valle de Mexico</td>\n",
       "    </tr>\n",
       "    <tr>\n",
       "      <th>2</th>\n",
       "      <td>Lindavista</td>\n",
       "      <td>Valle de Mexico</td>\n",
       "    </tr>\n",
       "    <tr>\n",
       "      <th>3</th>\n",
       "      <td>Los Reyes</td>\n",
       "      <td>Valle de Mexico</td>\n",
       "    </tr>\n",
       "    <tr>\n",
       "      <th>4</th>\n",
       "      <td>Toluca</td>\n",
       "      <td>Valle de Mexico</td>\n",
       "    </tr>\n",
       "  </tbody>\n",
       "</table>\n",
       "</div>"
      ],
      "text/plain": [
       "  Oficina Comercial         Gerencia\n",
       "0          Coacalco  Valle de Mexico\n",
       "1           Condesa  Valle de Mexico\n",
       "2        Lindavista  Valle de Mexico\n",
       "3         Los Reyes  Valle de Mexico\n",
       "4            Toluca  Valle de Mexico"
      ]
     },
     "execution_count": 14,
     "metadata": {},
     "output_type": "execute_result"
    }
   ],
   "source": [
    "df3 = df3[[\"Oficina Comercial\",\"Gerencia\"]]\n",
    "df3.head()"
   ]
  },
  {
   "cell_type": "code",
   "execution_count": 15,
   "id": "a7325011",
   "metadata": {},
   "outputs": [],
   "source": [
    "df = df.merge(df3, on=\"Oficina Comercial\", how=\"left\")"
   ]
  },
  {
   "cell_type": "code",
   "execution_count": 16,
   "id": "092d11cb",
   "metadata": {
    "colab": {
     "base_uri": "https://localhost:8080/",
     "height": 1000
    },
    "executionInfo": {
     "elapsed": 13,
     "status": "ok",
     "timestamp": 1630988455476,
     "user": {
      "displayName": "Fernando Manuel Gamino Torres",
      "photoUrl": "https://lh3.googleusercontent.com/a-/AOh14GjiYo9mTJNaYFrzccPZp7ueV6HgmH2ahC4tgvQX=s64",
      "userId": "13456855925853612789"
     },
     "user_tz": 300
    },
    "id": "092d11cb",
    "outputId": "d8ef44c1-7701-4285-c06c-c4d8695c54bc"
   },
   "outputs": [
    {
     "data": {
      "text/html": [
       "<div>\n",
       "<style scoped>\n",
       "    .dataframe tbody tr th:only-of-type {\n",
       "        vertical-align: middle;\n",
       "    }\n",
       "\n",
       "    .dataframe tbody tr th {\n",
       "        vertical-align: top;\n",
       "    }\n",
       "\n",
       "    .dataframe thead th {\n",
       "        text-align: right;\n",
       "    }\n",
       "</style>\n",
       "<table border=\"1\" class=\"dataframe\">\n",
       "  <thead>\n",
       "    <tr style=\"text-align: right;\">\n",
       "      <th></th>\n",
       "      <th>Logistic Distributor</th>\n",
       "      <th>Delivery Route</th>\n",
       "      <th>Delivery Name</th>\n",
       "      <th>Region</th>\n",
       "      <th>City</th>\n",
       "      <th>Channel</th>\n",
       "      <th>Sub Channel</th>\n",
       "      <th>Customer Type</th>\n",
       "      <th>Store code</th>\n",
       "      <th>Preventa</th>\n",
       "      <th>...</th>\n",
       "      <th>Rejection % Qty</th>\n",
       "      <th>Rejection Qty</th>\n",
       "      <th>Rejection_Reason</th>\n",
       "      <th>visitado</th>\n",
       "      <th>Rejection Reason.1</th>\n",
       "      <th>Fecha de Entrega</th>\n",
       "      <th>Día</th>\n",
       "      <th>Semana</th>\n",
       "      <th>Oficina Comercial</th>\n",
       "      <th>Gerencia</th>\n",
       "    </tr>\n",
       "  </thead>\n",
       "  <tbody>\n",
       "    <tr>\n",
       "      <th>0</th>\n",
       "      <td>Jose Manuel Fuentes</td>\n",
       "      <td>Guadalajara-07</td>\n",
       "      <td>Guadalajara-07</td>\n",
       "      <td>Guadalajara</td>\n",
       "      <td>Jalisco</td>\n",
       "      <td>Canal Tradicional</td>\n",
       "      <td>Tiendas de abarrotes/misceláneas</td>\n",
       "      <td>8_Tiendas de abarrotes/misceláneas</td>\n",
       "      <td>JC09800029</td>\n",
       "      <td>PVGdl020</td>\n",
       "      <td>...</td>\n",
       "      <td>0.0</td>\n",
       "      <td>0</td>\n",
       "      <td>NaN</td>\n",
       "      <td>visitado</td>\n",
       "      <td>Entregado</td>\n",
       "      <td>13/01/2022</td>\n",
       "      <td>4</td>\n",
       "      <td>2</td>\n",
       "      <td>Guadalajara</td>\n",
       "      <td>Occidente</td>\n",
       "    </tr>\n",
       "    <tr>\n",
       "      <th>1</th>\n",
       "      <td>Jose Manuel Fuentes</td>\n",
       "      <td>Guadalajara-07</td>\n",
       "      <td>Guadalajara-07</td>\n",
       "      <td>Guadalajara</td>\n",
       "      <td>Jalisco</td>\n",
       "      <td>Canal Tradicional</td>\n",
       "      <td>Tiendas de abarrotes/misceláneas</td>\n",
       "      <td>8_Tiendas de abarrotes/misceláneas</td>\n",
       "      <td>JC12001500</td>\n",
       "      <td>PVGdl020</td>\n",
       "      <td>...</td>\n",
       "      <td>0.0</td>\n",
       "      <td>0</td>\n",
       "      <td>NaN</td>\n",
       "      <td>visitado</td>\n",
       "      <td>Entregado</td>\n",
       "      <td>13/01/2022</td>\n",
       "      <td>4</td>\n",
       "      <td>2</td>\n",
       "      <td>Guadalajara</td>\n",
       "      <td>Occidente</td>\n",
       "    </tr>\n",
       "    <tr>\n",
       "      <th>2</th>\n",
       "      <td>Jose Manuel Fuentes</td>\n",
       "      <td>Guadalajara-07</td>\n",
       "      <td>Guadalajara-07</td>\n",
       "      <td>Guadalajara</td>\n",
       "      <td>Jalisco</td>\n",
       "      <td>Canal Tradicional</td>\n",
       "      <td>Tiendas de abarrotes/misceláneas</td>\n",
       "      <td>8_Tiendas de abarrotes/misceláneas</td>\n",
       "      <td>JC12001511</td>\n",
       "      <td>PVGdl020</td>\n",
       "      <td>...</td>\n",
       "      <td>0.0</td>\n",
       "      <td>0</td>\n",
       "      <td>NaN</td>\n",
       "      <td>visitado</td>\n",
       "      <td>Entregado</td>\n",
       "      <td>13/01/2022</td>\n",
       "      <td>4</td>\n",
       "      <td>2</td>\n",
       "      <td>Guadalajara</td>\n",
       "      <td>Occidente</td>\n",
       "    </tr>\n",
       "    <tr>\n",
       "      <th>3</th>\n",
       "      <td>Jose Manuel Fuentes</td>\n",
       "      <td>Guadalajara-07</td>\n",
       "      <td>Guadalajara-07</td>\n",
       "      <td>Guadalajara</td>\n",
       "      <td>Jalisco</td>\n",
       "      <td>Canal Tradicional</td>\n",
       "      <td>Tiendas de abarrotes/misceláneas</td>\n",
       "      <td>8_Tiendas de abarrotes/misceláneas</td>\n",
       "      <td>JC12001487</td>\n",
       "      <td>PVGdl020</td>\n",
       "      <td>...</td>\n",
       "      <td>0.0</td>\n",
       "      <td>0</td>\n",
       "      <td>NaN</td>\n",
       "      <td>visitado</td>\n",
       "      <td>Entregado</td>\n",
       "      <td>13/01/2022</td>\n",
       "      <td>4</td>\n",
       "      <td>2</td>\n",
       "      <td>Guadalajara</td>\n",
       "      <td>Occidente</td>\n",
       "    </tr>\n",
       "    <tr>\n",
       "      <th>4</th>\n",
       "      <td>Jose Manuel Fuentes</td>\n",
       "      <td>Guadalajara-07</td>\n",
       "      <td>Guadalajara-07</td>\n",
       "      <td>Guadalajara</td>\n",
       "      <td>Jalisco</td>\n",
       "      <td>Canal Tradicional</td>\n",
       "      <td>Tiendas de abarrotes/misceláneas</td>\n",
       "      <td>8_Tiendas de abarrotes/misceláneas</td>\n",
       "      <td>JC12001492</td>\n",
       "      <td>PVGdl020</td>\n",
       "      <td>...</td>\n",
       "      <td>0.0</td>\n",
       "      <td>0</td>\n",
       "      <td>NaN</td>\n",
       "      <td>visitado</td>\n",
       "      <td>Entregado</td>\n",
       "      <td>13/01/2022</td>\n",
       "      <td>4</td>\n",
       "      <td>2</td>\n",
       "      <td>Guadalajara</td>\n",
       "      <td>Occidente</td>\n",
       "    </tr>\n",
       "  </tbody>\n",
       "</table>\n",
       "<p>5 rows × 36 columns</p>\n",
       "</div>"
      ],
      "text/plain": [
       "  Logistic Distributor  Delivery Route   Delivery Name       Region     City  \\\n",
       "0  Jose Manuel Fuentes  Guadalajara-07  Guadalajara-07  Guadalajara  Jalisco   \n",
       "1  Jose Manuel Fuentes  Guadalajara-07  Guadalajara-07  Guadalajara  Jalisco   \n",
       "2  Jose Manuel Fuentes  Guadalajara-07  Guadalajara-07  Guadalajara  Jalisco   \n",
       "3  Jose Manuel Fuentes  Guadalajara-07  Guadalajara-07  Guadalajara  Jalisco   \n",
       "4  Jose Manuel Fuentes  Guadalajara-07  Guadalajara-07  Guadalajara  Jalisco   \n",
       "\n",
       "             Channel                       Sub Channel  \\\n",
       "0  Canal Tradicional  Tiendas de abarrotes/misceláneas   \n",
       "1  Canal Tradicional  Tiendas de abarrotes/misceláneas   \n",
       "2  Canal Tradicional  Tiendas de abarrotes/misceláneas   \n",
       "3  Canal Tradicional  Tiendas de abarrotes/misceláneas   \n",
       "4  Canal Tradicional  Tiendas de abarrotes/misceláneas   \n",
       "\n",
       "                        Customer Type  Store code  Preventa  ...  \\\n",
       "0  8_Tiendas de abarrotes/misceláneas  JC09800029  PVGdl020  ...   \n",
       "1  8_Tiendas de abarrotes/misceláneas  JC12001500  PVGdl020  ...   \n",
       "2  8_Tiendas de abarrotes/misceláneas  JC12001511  PVGdl020  ...   \n",
       "3  8_Tiendas de abarrotes/misceláneas  JC12001487  PVGdl020  ...   \n",
       "4  8_Tiendas de abarrotes/misceláneas  JC12001492  PVGdl020  ...   \n",
       "\n",
       "  Rejection % Qty Rejection Qty  Rejection_Reason  visitado  \\\n",
       "0             0.0             0               NaN  visitado   \n",
       "1             0.0             0               NaN  visitado   \n",
       "2             0.0             0               NaN  visitado   \n",
       "3             0.0             0               NaN  visitado   \n",
       "4             0.0             0               NaN  visitado   \n",
       "\n",
       "   Rejection Reason.1  Fecha de Entrega  Día  Semana  Oficina Comercial  \\\n",
       "0           Entregado        13/01/2022    4       2        Guadalajara   \n",
       "1           Entregado        13/01/2022    4       2        Guadalajara   \n",
       "2           Entregado        13/01/2022    4       2        Guadalajara   \n",
       "3           Entregado        13/01/2022    4       2        Guadalajara   \n",
       "4           Entregado        13/01/2022    4       2        Guadalajara   \n",
       "\n",
       "    Gerencia  \n",
       "0  Occidente  \n",
       "1  Occidente  \n",
       "2  Occidente  \n",
       "3  Occidente  \n",
       "4  Occidente  \n",
       "\n",
       "[5 rows x 36 columns]"
      ]
     },
     "execution_count": 16,
     "metadata": {},
     "output_type": "execute_result"
    }
   ],
   "source": [
    "df.head()"
   ]
  },
  {
   "cell_type": "markdown",
   "id": "ca5a6aa7",
   "metadata": {
    "id": "ca5a6aa7"
   },
   "source": [
    "# Exportación de archivo"
   ]
  },
  {
   "cell_type": "code",
   "execution_count": 17,
   "id": "37e43f17",
   "metadata": {},
   "outputs": [],
   "source": [
    "#\"C:\\Users\\FernandoManuelGamino\\Documents\\historico_operaciones\"\n",
    "path = \"../historico_operaciones/\"\n",
    "b_file = fecha[:4]+\"_operacion.xlsx\"\n",
    "joined_path2 = os.path.join(path, b_file)\n",
    "df.to_excel(joined_path2,sheet_name=reporte, index=False, header=True)"
   ]
  }
 ],
 "metadata": {
  "colab": {
   "name": "homogenizar_valores.ipynb",
   "provenance": []
  },
  "kernelspec": {
   "display_name": "Python 3 (ipykernel)",
   "language": "python",
   "name": "python3"
  },
  "language_info": {
   "codemirror_mode": {
    "name": "ipython",
    "version": 3
   },
   "file_extension": ".py",
   "mimetype": "text/x-python",
   "name": "python",
   "nbconvert_exporter": "python",
   "pygments_lexer": "ipython3",
   "version": "3.9.6"
  }
 },
 "nbformat": 4,
 "nbformat_minor": 5
}
