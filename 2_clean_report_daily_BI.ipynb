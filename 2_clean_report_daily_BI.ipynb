{
 "cells": [
  {
   "cell_type": "code",
   "execution_count": 1,
   "id": "79cf3bf0",
   "metadata": {
    "executionInfo": {
     "elapsed": 144,
     "status": "ok",
     "timestamp": 1630988453955,
     "user": {
      "displayName": "Fernando Manuel Gamino Torres",
      "photoUrl": "https://lh3.googleusercontent.com/a-/AOh14GjiYo9mTJNaYFrzccPZp7ueV6HgmH2ahC4tgvQX=s64",
      "userId": "13456855925853612789"
     },
     "user_tz": 300
    },
    "id": "79cf3bf0"
   },
   "outputs": [],
   "source": [
    "from datetime import datetime \n",
    "import pandas as pd\n",
    "import numpy as np\n",
    "import os.path\n",
    "import re\n",
    "import xlrd"
   ]
  },
  {
   "cell_type": "raw",
   "id": "608d1794",
   "metadata": {},
   "source": [
    "    Clave\n",
    "1 = lunes\n",
    "2 = martes \n",
    "3 = miercoles \n",
    "4 = jueves \n",
    "5 = viernes\n",
    "6 = sabado"
   ]
  },
  {
   "cell_type": "code",
   "execution_count": 2,
   "id": "25ecef6f",
   "metadata": {},
   "outputs": [],
   "source": [
    "fecha = \"12232021\"\n",
    "semana = 52\n",
    "dia = 4\n",
    "fecha_entrega = fecha[2:4]+\"/\"+fecha[:2]+\"/\"+fecha[-4:]"
   ]
  },
  {
   "cell_type": "code",
   "execution_count": 3,
   "id": "5268f500",
   "metadata": {},
   "outputs": [
    {
     "data": {
      "text/plain": [
       "'22/12/2021'"
      ]
     },
     "execution_count": 3,
     "metadata": {},
     "output_type": "execute_result"
    }
   ],
   "source": [
    "fecha_entrega"
   ]
  },
  {
   "cell_type": "markdown",
   "id": "0153f9f5",
   "metadata": {
    "id": "0153f9f5"
   },
   "source": [
    "# Carga y preparación de DataFrame\n"
   ]
  },
  {
   "cell_type": "code",
   "execution_count": 4,
   "id": "6ea57752",
   "metadata": {
    "executionInfo": {
     "elapsed": 780,
     "status": "ok",
     "timestamp": 1630988454879,
     "user": {
      "displayName": "Fernando Manuel Gamino Torres",
      "photoUrl": "https://lh3.googleusercontent.com/a-/AOh14GjiYo9mTJNaYFrzccPZp7ueV6HgmH2ahC4tgvQX=s64",
      "userId": "13456855925853612789"
     },
     "user_tz": 300
    },
    "id": "6ea57752"
   },
   "outputs": [],
   "source": [
    "# \"C:\\Users\\FernandoManuelGamino\\Documents\\2_reporte_al_cierre\\Reporte rechazo 14092021.xlsx\"\n",
    "\n",
    "path = \"../2_reporte_al_cierre\"\n",
    "a_file = fecha+\" rechazo.xlsx\"\n",
    "reporte = \"RPT_Rejection_Rabbit\"\n",
    "\n",
    "joined_path = os.path.join(path, a_file)\n",
    "df = pd.read_excel(joined_path,sheet_name=reporte)"
   ]
  },
  {
   "cell_type": "code",
   "execution_count": 5,
   "id": "24fdb5c9",
   "metadata": {},
   "outputs": [
    {
     "data": {
      "text/plain": [
       "(6591, 31)"
      ]
     },
     "execution_count": 5,
     "metadata": {},
     "output_type": "execute_result"
    }
   ],
   "source": [
    "df.shape"
   ]
  },
  {
   "cell_type": "markdown",
   "id": "3538def9",
   "metadata": {
    "id": "3538def9"
   },
   "source": [
    "# Homogenización de motivo de rechazos"
   ]
  },
  {
   "cell_type": "code",
   "execution_count": 6,
   "id": "3ae9722a",
   "metadata": {
    "executionInfo": {
     "elapsed": 50,
     "status": "ok",
     "timestamp": 1630988454892,
     "user": {
      "displayName": "Fernando Manuel Gamino Torres",
      "photoUrl": "https://lh3.googleusercontent.com/a-/AOh14GjiYo9mTJNaYFrzccPZp7ueV6HgmH2ahC4tgvQX=s64",
      "userId": "13456855925853612789"
     },
     "user_tz": 300
    },
    "id": "3ae9722a"
   },
   "outputs": [],
   "source": [
    "df.rename(columns = {'Rejection Reason':'Rejection_Reason'}, inplace = True)"
   ]
  },
  {
   "cell_type": "code",
   "execution_count": 7,
   "id": "128e25c2",
   "metadata": {},
   "outputs": [],
   "source": [
    "df['Fecha de Entrega'] = fecha_entrega"
   ]
  },
  {
   "cell_type": "code",
   "execution_count": 8,
   "id": "7d2529cb",
   "metadata": {},
   "outputs": [],
   "source": [
    "# We consider City as STATE, for practical purposes\n",
    "\n",
    "df.loc[df['City'].str.contains(r'GDL',flags = re.IGNORECASE),'City'] = \"Jalisco\"\n",
    "df.loc[df['City'].str.contains(r'LEON',flags = re.IGNORECASE),'City'] = \"Guanajuato\"\n",
    "df.loc[df['City'].str.contains(r'Toluca',flags = re.IGNORECASE),'City'] = \"Estado de Mexico\""
   ]
  },
  {
   "cell_type": "code",
   "execution_count": 9,
   "id": "929d172a",
   "metadata": {},
   "outputs": [],
   "source": [
    "# We consider Region as CEDIS, for practical purposes\n",
    "\n",
    "df.loc[df['City'].str.contains(r'Jalisco',flags = re.IGNORECASE),'Region'] = \"Guadalajara\"\n",
    "df.loc[df['City'].str.contains(r'Guanajuato',flags = re.IGNORECASE),'Region'] = \"Leon\""
   ]
  },
  {
   "cell_type": "code",
   "execution_count": 10,
   "id": "91489fd5",
   "metadata": {},
   "outputs": [],
   "source": [
    "df['Día'] = dia\n",
    "df['Semana'] = semana"
   ]
  },
  {
   "cell_type": "code",
   "execution_count": 11,
   "id": "be087e2b",
   "metadata": {},
   "outputs": [],
   "source": [
    "# OFICINA COMERCIAL\n",
    "\n",
    "# Carga de DF\n",
    "# \"C:\\Users\\FernandoManuelGamino\\Documents\\10_estructura_organizacional\\1_supervisor_preventa.xlsx\"\n",
    "\n",
    "path = \"../10_estructura_organizacional\"\n",
    "a_file = \"1_supervisor_preventa.xlsx\"\n",
    "reporte = \"supervisor_preventa\"\n",
    "\n",
    "joined_path = os.path.join(path, a_file)\n",
    "df2 = pd.read_excel(joined_path,sheet_name=reporte)"
   ]
  },
  {
   "cell_type": "code",
   "execution_count": 12,
   "id": "6ea602d6",
   "metadata": {},
   "outputs": [],
   "source": [
    "df2 = df2[[\"Preventa\",\"Oficina Comercial\"]]"
   ]
  },
  {
   "cell_type": "code",
   "execution_count": 13,
   "id": "1a4001fb",
   "metadata": {},
   "outputs": [
    {
     "data": {
      "text/html": [
       "<div>\n",
       "<style scoped>\n",
       "    .dataframe tbody tr th:only-of-type {\n",
       "        vertical-align: middle;\n",
       "    }\n",
       "\n",
       "    .dataframe tbody tr th {\n",
       "        vertical-align: top;\n",
       "    }\n",
       "\n",
       "    .dataframe thead th {\n",
       "        text-align: right;\n",
       "    }\n",
       "</style>\n",
       "<table border=\"1\" class=\"dataframe\">\n",
       "  <thead>\n",
       "    <tr style=\"text-align: right;\">\n",
       "      <th></th>\n",
       "      <th>Preventa</th>\n",
       "      <th>Oficina Comercial</th>\n",
       "    </tr>\n",
       "  </thead>\n",
       "  <tbody>\n",
       "    <tr>\n",
       "      <th>0</th>\n",
       "      <td>PVTacubaya047</td>\n",
       "      <td>Condesa</td>\n",
       "    </tr>\n",
       "    <tr>\n",
       "      <th>1</th>\n",
       "      <td>PVTacubaya024</td>\n",
       "      <td>Condesa</td>\n",
       "    </tr>\n",
       "    <tr>\n",
       "      <th>2</th>\n",
       "      <td>PVTacubaya030</td>\n",
       "      <td>Condesa</td>\n",
       "    </tr>\n",
       "    <tr>\n",
       "      <th>3</th>\n",
       "      <td>PVTacubaya022</td>\n",
       "      <td>Condesa</td>\n",
       "    </tr>\n",
       "    <tr>\n",
       "      <th>4</th>\n",
       "      <td>PVTacubaya023</td>\n",
       "      <td>Condesa</td>\n",
       "    </tr>\n",
       "    <tr>\n",
       "      <th>...</th>\n",
       "      <td>...</td>\n",
       "      <td>...</td>\n",
       "    </tr>\n",
       "    <tr>\n",
       "      <th>442</th>\n",
       "      <td>PVLeon019</td>\n",
       "      <td>Leon</td>\n",
       "    </tr>\n",
       "    <tr>\n",
       "      <th>443</th>\n",
       "      <td>PVCoacalco012</td>\n",
       "      <td>Coacalco</td>\n",
       "    </tr>\n",
       "    <tr>\n",
       "      <th>444</th>\n",
       "      <td>PVCoacalco024</td>\n",
       "      <td>Coacalco</td>\n",
       "    </tr>\n",
       "    <tr>\n",
       "      <th>445</th>\n",
       "      <td>PVCoacalco036</td>\n",
       "      <td>Coacalco</td>\n",
       "    </tr>\n",
       "    <tr>\n",
       "      <th>446</th>\n",
       "      <td>PVCoacalco048</td>\n",
       "      <td>Coacalco</td>\n",
       "    </tr>\n",
       "  </tbody>\n",
       "</table>\n",
       "<p>447 rows × 2 columns</p>\n",
       "</div>"
      ],
      "text/plain": [
       "          Preventa Oficina Comercial\n",
       "0    PVTacubaya047           Condesa\n",
       "1    PVTacubaya024           Condesa\n",
       "2    PVTacubaya030           Condesa\n",
       "3    PVTacubaya022           Condesa\n",
       "4    PVTacubaya023           Condesa\n",
       "..             ...               ...\n",
       "442      PVLeon019              Leon\n",
       "443  PVCoacalco012          Coacalco\n",
       "444  PVCoacalco024          Coacalco\n",
       "445  PVCoacalco036          Coacalco\n",
       "446  PVCoacalco048          Coacalco\n",
       "\n",
       "[447 rows x 2 columns]"
      ]
     },
     "execution_count": 13,
     "metadata": {},
     "output_type": "execute_result"
    }
   ],
   "source": [
    "df2"
   ]
  },
  {
   "cell_type": "code",
   "execution_count": 14,
   "id": "dbe8c127",
   "metadata": {},
   "outputs": [],
   "source": [
    "# Merge Dataframes\n",
    "\n",
    "df = df.merge(df2, on=\"Preventa\", how=\"left\")"
   ]
  },
  {
   "cell_type": "code",
   "execution_count": 15,
   "id": "f47b27b3",
   "metadata": {},
   "outputs": [],
   "source": [
    "# GERENCIA\n",
    "# \"C:\\Users\\FernandoManuelGamino\\Documents\\10_estructura_organizacional\\gerencias.xlsx\"\n",
    "\n",
    "path = \"../10_estructura_organizacional\"\n",
    "a_file = \"gerencias.xlsx\"\n",
    "reporte = \"division\"\n",
    "\n",
    "joined_path = os.path.join(path, a_file)\n",
    "df3 = pd.read_excel(joined_path,sheet_name=reporte)"
   ]
  },
  {
   "cell_type": "code",
   "execution_count": 16,
   "id": "fc9d7d61",
   "metadata": {},
   "outputs": [
    {
     "data": {
      "text/html": [
       "<div>\n",
       "<style scoped>\n",
       "    .dataframe tbody tr th:only-of-type {\n",
       "        vertical-align: middle;\n",
       "    }\n",
       "\n",
       "    .dataframe tbody tr th {\n",
       "        vertical-align: top;\n",
       "    }\n",
       "\n",
       "    .dataframe thead th {\n",
       "        text-align: right;\n",
       "    }\n",
       "</style>\n",
       "<table border=\"1\" class=\"dataframe\">\n",
       "  <thead>\n",
       "    <tr style=\"text-align: right;\">\n",
       "      <th></th>\n",
       "      <th>Oficina Comercial</th>\n",
       "      <th>Gerencia</th>\n",
       "    </tr>\n",
       "  </thead>\n",
       "  <tbody>\n",
       "    <tr>\n",
       "      <th>0</th>\n",
       "      <td>Coacalco</td>\n",
       "      <td>Valle de Mexico</td>\n",
       "    </tr>\n",
       "    <tr>\n",
       "      <th>1</th>\n",
       "      <td>Condesa</td>\n",
       "      <td>Valle de Mexico</td>\n",
       "    </tr>\n",
       "    <tr>\n",
       "      <th>2</th>\n",
       "      <td>Lindavista</td>\n",
       "      <td>Valle de Mexico</td>\n",
       "    </tr>\n",
       "    <tr>\n",
       "      <th>3</th>\n",
       "      <td>Los Reyes</td>\n",
       "      <td>Valle de Mexico</td>\n",
       "    </tr>\n",
       "    <tr>\n",
       "      <th>4</th>\n",
       "      <td>Toluca</td>\n",
       "      <td>Valle de Mexico</td>\n",
       "    </tr>\n",
       "    <tr>\n",
       "      <th>5</th>\n",
       "      <td>Xochimilco</td>\n",
       "      <td>Valle de Mexico</td>\n",
       "    </tr>\n",
       "    <tr>\n",
       "      <th>6</th>\n",
       "      <td>Puebla</td>\n",
       "      <td>Centro Sur</td>\n",
       "    </tr>\n",
       "    <tr>\n",
       "      <th>7</th>\n",
       "      <td>Leon</td>\n",
       "      <td>Occidente</td>\n",
       "    </tr>\n",
       "    <tr>\n",
       "      <th>8</th>\n",
       "      <td>Guadalajara</td>\n",
       "      <td>Occidente</td>\n",
       "    </tr>\n",
       "    <tr>\n",
       "      <th>9</th>\n",
       "      <td>Monterrey</td>\n",
       "      <td>Norte</td>\n",
       "    </tr>\n",
       "  </tbody>\n",
       "</table>\n",
       "</div>"
      ],
      "text/plain": [
       "  Oficina Comercial         Gerencia\n",
       "0          Coacalco  Valle de Mexico\n",
       "1           Condesa  Valle de Mexico\n",
       "2        Lindavista  Valle de Mexico\n",
       "3         Los Reyes  Valle de Mexico\n",
       "4            Toluca  Valle de Mexico\n",
       "5        Xochimilco  Valle de Mexico\n",
       "6            Puebla       Centro Sur\n",
       "7              Leon        Occidente\n",
       "8       Guadalajara        Occidente\n",
       "9         Monterrey            Norte"
      ]
     },
     "execution_count": 16,
     "metadata": {},
     "output_type": "execute_result"
    }
   ],
   "source": [
    "df3 = df3[[\"Oficina Comercial\",\"Gerencia\"]]\n",
    "df3"
   ]
  },
  {
   "cell_type": "code",
   "execution_count": 17,
   "id": "a7325011",
   "metadata": {},
   "outputs": [],
   "source": [
    "df = df.merge(df3, on=\"Oficina Comercial\", how=\"left\")"
   ]
  },
  {
   "cell_type": "code",
   "execution_count": 18,
   "id": "dbc5cb6f",
   "metadata": {
    "executionInfo": {
     "elapsed": 33,
     "status": "ok",
     "timestamp": 1630988454896,
     "user": {
      "displayName": "Fernando Manuel Gamino Torres",
      "photoUrl": "https://lh3.googleusercontent.com/a-/AOh14GjiYo9mTJNaYFrzccPZp7ueV6HgmH2ahC4tgvQX=s64",
      "userId": "13456855925853612789"
     },
     "user_tz": 300
    },
    "id": "dbc5cb6f"
   },
   "outputs": [],
   "source": [
    "# quitar los nulos\n",
    "df['Rejection_Reason'] = df['Rejection_Reason'].fillna(\"vacio\")"
   ]
  },
  {
   "cell_type": "code",
   "execution_count": 19,
   "id": "vT53EZfDUnR1",
   "metadata": {
    "colab": {
     "base_uri": "https://localhost:8080/",
     "height": 1000
    },
    "executionInfo": {
     "elapsed": 192,
     "status": "ok",
     "timestamp": 1630988455066,
     "user": {
      "displayName": "Fernando Manuel Gamino Torres",
      "photoUrl": "https://lh3.googleusercontent.com/a-/AOh14GjiYo9mTJNaYFrzccPZp7ueV6HgmH2ahC4tgvQX=s64",
      "userId": "13456855925853612789"
     },
     "user_tz": 300
    },
    "id": "vT53EZfDUnR1",
    "outputId": "c88c755d-f36f-4592-acb9-be6cd1e0cfaa"
   },
   "outputs": [
    {
     "data": {
      "text/plain": [
       "(6591, 36)"
      ]
     },
     "execution_count": 19,
     "metadata": {},
     "output_type": "execute_result"
    }
   ],
   "source": [
    "# dimenciones de data frame\n",
    "df.shape"
   ]
  },
  {
   "cell_type": "code",
   "execution_count": 20,
   "id": "a580ca2c",
   "metadata": {
    "executionInfo": {
     "elapsed": 213,
     "status": "ok",
     "timestamp": 1630988455474,
     "user": {
      "displayName": "Fernando Manuel Gamino Torres",
      "photoUrl": "https://lh3.googleusercontent.com/a-/AOh14GjiYo9mTJNaYFrzccPZp7ueV6HgmH2ahC4tgvQX=s64",
      "userId": "13456855925853612789"
     },
     "user_tz": 300
    },
    "id": "a580ca2c"
   },
   "outputs": [],
   "source": [
    "# restablecer los nulos:\n",
    "df['Rejection_Reason'] = df['Rejection_Reason'].replace(\"vacio\", np.nan)"
   ]
  },
  {
   "cell_type": "code",
   "execution_count": 21,
   "id": "1957dec3",
   "metadata": {
    "colab": {
     "base_uri": "https://localhost:8080/",
     "height": 1000
    },
    "executionInfo": {
     "elapsed": 39,
     "status": "ok",
     "timestamp": 1630988455297,
     "user": {
      "displayName": "Fernando Manuel Gamino Torres",
      "photoUrl": "https://lh3.googleusercontent.com/a-/AOh14GjiYo9mTJNaYFrzccPZp7ueV6HgmH2ahC4tgvQX=s64",
      "userId": "13456855925853612789"
     },
     "user_tz": 300
    },
    "id": "1957dec3",
    "outputId": "950b9365-863f-490e-99f7-4745bdbfa805"
   },
   "outputs": [
    {
     "data": {
      "text/plain": [
       "(6591, 36)"
      ]
     },
     "execution_count": 21,
     "metadata": {},
     "output_type": "execute_result"
    }
   ],
   "source": [
    "# dimenciones del data frame\n",
    "df.shape"
   ]
  },
  {
   "cell_type": "code",
   "execution_count": 22,
   "id": "092d11cb",
   "metadata": {
    "colab": {
     "base_uri": "https://localhost:8080/",
     "height": 1000
    },
    "executionInfo": {
     "elapsed": 13,
     "status": "ok",
     "timestamp": 1630988455476,
     "user": {
      "displayName": "Fernando Manuel Gamino Torres",
      "photoUrl": "https://lh3.googleusercontent.com/a-/AOh14GjiYo9mTJNaYFrzccPZp7ueV6HgmH2ahC4tgvQX=s64",
      "userId": "13456855925853612789"
     },
     "user_tz": 300
    },
    "id": "092d11cb",
    "outputId": "d8ef44c1-7701-4285-c06c-c4d8695c54bc"
   },
   "outputs": [
    {
     "data": {
      "text/html": [
       "<div>\n",
       "<style scoped>\n",
       "    .dataframe tbody tr th:only-of-type {\n",
       "        vertical-align: middle;\n",
       "    }\n",
       "\n",
       "    .dataframe tbody tr th {\n",
       "        vertical-align: top;\n",
       "    }\n",
       "\n",
       "    .dataframe thead th {\n",
       "        text-align: right;\n",
       "    }\n",
       "</style>\n",
       "<table border=\"1\" class=\"dataframe\">\n",
       "  <thead>\n",
       "    <tr style=\"text-align: right;\">\n",
       "      <th></th>\n",
       "      <th>Logistic Distributor</th>\n",
       "      <th>Delivery Route</th>\n",
       "      <th>Delivery Name</th>\n",
       "      <th>Region</th>\n",
       "      <th>City</th>\n",
       "      <th>Channel</th>\n",
       "      <th>Sub Channel</th>\n",
       "      <th>Customer Type</th>\n",
       "      <th>Store code</th>\n",
       "      <th>Preventa</th>\n",
       "      <th>...</th>\n",
       "      <th>Rejection % Qty</th>\n",
       "      <th>Rejection Qty</th>\n",
       "      <th>Rejection_Reason</th>\n",
       "      <th>visitado</th>\n",
       "      <th>Rejection Reason.1</th>\n",
       "      <th>Fecha de Entrega</th>\n",
       "      <th>Día</th>\n",
       "      <th>Semana</th>\n",
       "      <th>Oficina Comercial</th>\n",
       "      <th>Gerencia</th>\n",
       "    </tr>\n",
       "  </thead>\n",
       "  <tbody>\n",
       "    <tr>\n",
       "      <th>0</th>\n",
       "      <td>Ivan Navarro</td>\n",
       "      <td>Vdmsur-08</td>\n",
       "      <td>Vdmsur-08</td>\n",
       "      <td>Valle de Mexico Sur</td>\n",
       "      <td>CDMX</td>\n",
       "      <td>Canal Tradicional</td>\n",
       "      <td>Dulcerías y materias primas</td>\n",
       "      <td>2_Dulcerías y materias primas</td>\n",
       "      <td>CM01701943</td>\n",
       "      <td>PVTacubaya023</td>\n",
       "      <td>...</td>\n",
       "      <td>NaN</td>\n",
       "      <td>-10</td>\n",
       "      <td>NaN</td>\n",
       "      <td>no visitado</td>\n",
       "      <td>No visitado</td>\n",
       "      <td>22/12/2021</td>\n",
       "      <td>3</td>\n",
       "      <td>52</td>\n",
       "      <td>Condesa</td>\n",
       "      <td>Valle de Mexico</td>\n",
       "    </tr>\n",
       "    <tr>\n",
       "      <th>1</th>\n",
       "      <td>Ivan Navarro</td>\n",
       "      <td>Vdmsur-08</td>\n",
       "      <td>Vdmsur-08</td>\n",
       "      <td>Valle de Mexico Sur</td>\n",
       "      <td>CDMX</td>\n",
       "      <td>Canal Tradicional</td>\n",
       "      <td>Dulcerías y materias primas</td>\n",
       "      <td>2_Dulcerías y materias primas</td>\n",
       "      <td>RB00002362</td>\n",
       "      <td>PVTacubaya022</td>\n",
       "      <td>...</td>\n",
       "      <td>NaN</td>\n",
       "      <td>-10</td>\n",
       "      <td>NaN</td>\n",
       "      <td>no visitado</td>\n",
       "      <td>No visitado</td>\n",
       "      <td>22/12/2021</td>\n",
       "      <td>3</td>\n",
       "      <td>52</td>\n",
       "      <td>Condesa</td>\n",
       "      <td>Valle de Mexico</td>\n",
       "    </tr>\n",
       "    <tr>\n",
       "      <th>2</th>\n",
       "      <td>Ivan Navarro</td>\n",
       "      <td>Vdmsur-08</td>\n",
       "      <td>Vdmsur-08</td>\n",
       "      <td>Valle de Mexico Sur</td>\n",
       "      <td>CDMX</td>\n",
       "      <td>Canal Tradicional</td>\n",
       "      <td>Farmacias con minisúper</td>\n",
       "      <td>3_Farmacias con minisúper</td>\n",
       "      <td>CM01503843</td>\n",
       "      <td>PVTacubaya022</td>\n",
       "      <td>...</td>\n",
       "      <td>NaN</td>\n",
       "      <td>-24</td>\n",
       "      <td>NaN</td>\n",
       "      <td>no visitado</td>\n",
       "      <td>No visitado</td>\n",
       "      <td>22/12/2021</td>\n",
       "      <td>3</td>\n",
       "      <td>52</td>\n",
       "      <td>Condesa</td>\n",
       "      <td>Valle de Mexico</td>\n",
       "    </tr>\n",
       "    <tr>\n",
       "      <th>3</th>\n",
       "      <td>Ivan Navarro</td>\n",
       "      <td>Vdmsur-08</td>\n",
       "      <td>Vdmsur-08</td>\n",
       "      <td>Valle de Mexico Sur</td>\n",
       "      <td>CDMX</td>\n",
       "      <td>Canal Tradicional</td>\n",
       "      <td>Farmacias sin minisúper</td>\n",
       "      <td>4_Farmacias sin minisúper</td>\n",
       "      <td>CM01702640</td>\n",
       "      <td>PVTacubaya023</td>\n",
       "      <td>...</td>\n",
       "      <td>NaN</td>\n",
       "      <td>-22</td>\n",
       "      <td>NaN</td>\n",
       "      <td>no visitado</td>\n",
       "      <td>No visitado</td>\n",
       "      <td>22/12/2021</td>\n",
       "      <td>3</td>\n",
       "      <td>52</td>\n",
       "      <td>Condesa</td>\n",
       "      <td>Valle de Mexico</td>\n",
       "    </tr>\n",
       "    <tr>\n",
       "      <th>4</th>\n",
       "      <td>Ivan Navarro</td>\n",
       "      <td>Vdmsur-08</td>\n",
       "      <td>Vdmsur-08</td>\n",
       "      <td>Valle de Mexico Sur</td>\n",
       "      <td>CDMX</td>\n",
       "      <td>Canal Tradicional</td>\n",
       "      <td>Farmacias sin minisúper</td>\n",
       "      <td>4_Farmacias sin minisúper</td>\n",
       "      <td>CM01503797</td>\n",
       "      <td>PVTacubaya022</td>\n",
       "      <td>...</td>\n",
       "      <td>NaN</td>\n",
       "      <td>-28</td>\n",
       "      <td>NaN</td>\n",
       "      <td>no visitado</td>\n",
       "      <td>No visitado</td>\n",
       "      <td>22/12/2021</td>\n",
       "      <td>3</td>\n",
       "      <td>52</td>\n",
       "      <td>Condesa</td>\n",
       "      <td>Valle de Mexico</td>\n",
       "    </tr>\n",
       "  </tbody>\n",
       "</table>\n",
       "<p>5 rows × 36 columns</p>\n",
       "</div>"
      ],
      "text/plain": [
       "  Logistic Distributor Delivery Route Delivery Name               Region  \\\n",
       "0         Ivan Navarro      Vdmsur-08     Vdmsur-08  Valle de Mexico Sur   \n",
       "1         Ivan Navarro      Vdmsur-08     Vdmsur-08  Valle de Mexico Sur   \n",
       "2         Ivan Navarro      Vdmsur-08     Vdmsur-08  Valle de Mexico Sur   \n",
       "3         Ivan Navarro      Vdmsur-08     Vdmsur-08  Valle de Mexico Sur   \n",
       "4         Ivan Navarro      Vdmsur-08     Vdmsur-08  Valle de Mexico Sur   \n",
       "\n",
       "   City            Channel                  Sub Channel  \\\n",
       "0  CDMX  Canal Tradicional  Dulcerías y materias primas   \n",
       "1  CDMX  Canal Tradicional  Dulcerías y materias primas   \n",
       "2  CDMX  Canal Tradicional      Farmacias con minisúper   \n",
       "3  CDMX  Canal Tradicional      Farmacias sin minisúper   \n",
       "4  CDMX  Canal Tradicional      Farmacias sin minisúper   \n",
       "\n",
       "                   Customer Type  Store code       Preventa  ...  \\\n",
       "0  2_Dulcerías y materias primas  CM01701943  PVTacubaya023  ...   \n",
       "1  2_Dulcerías y materias primas  RB00002362  PVTacubaya022  ...   \n",
       "2      3_Farmacias con minisúper  CM01503843  PVTacubaya022  ...   \n",
       "3      4_Farmacias sin minisúper  CM01702640  PVTacubaya023  ...   \n",
       "4      4_Farmacias sin minisúper  CM01503797  PVTacubaya022  ...   \n",
       "\n",
       "  Rejection % Qty Rejection Qty  Rejection_Reason     visitado  \\\n",
       "0             NaN           -10               NaN  no visitado   \n",
       "1             NaN           -10               NaN  no visitado   \n",
       "2             NaN           -24               NaN  no visitado   \n",
       "3             NaN           -22               NaN  no visitado   \n",
       "4             NaN           -28               NaN  no visitado   \n",
       "\n",
       "   Rejection Reason.1  Fecha de Entrega  Día  Semana  Oficina Comercial  \\\n",
       "0         No visitado        22/12/2021    3      52            Condesa   \n",
       "1         No visitado        22/12/2021    3      52            Condesa   \n",
       "2         No visitado        22/12/2021    3      52            Condesa   \n",
       "3         No visitado        22/12/2021    3      52            Condesa   \n",
       "4         No visitado        22/12/2021    3      52            Condesa   \n",
       "\n",
       "          Gerencia  \n",
       "0  Valle de Mexico  \n",
       "1  Valle de Mexico  \n",
       "2  Valle de Mexico  \n",
       "3  Valle de Mexico  \n",
       "4  Valle de Mexico  \n",
       "\n",
       "[5 rows x 36 columns]"
      ]
     },
     "execution_count": 22,
     "metadata": {},
     "output_type": "execute_result"
    }
   ],
   "source": [
    "df.head()"
   ]
  },
  {
   "cell_type": "markdown",
   "id": "ca5a6aa7",
   "metadata": {
    "id": "ca5a6aa7"
   },
   "source": [
    "# Exportación de archivo"
   ]
  },
  {
   "cell_type": "code",
   "execution_count": 23,
   "id": "37e43f17",
   "metadata": {},
   "outputs": [],
   "source": [
    "#\"C:\\Users\\FernandoManuelGamino\\Documents\\historico_operaciones\"\n",
    "path = \"../historico_operaciones/\"\n",
    "b_file = fecha[:4]+\"_operacion.xlsx\"\n",
    "joined_path2 = os.path.join(path, b_file)\n",
    "df.to_excel(joined_path2,sheet_name=reporte, index=False, header=True)"
   ]
  }
 ],
 "metadata": {
  "colab": {
   "name": "homogenizar_valores.ipynb",
   "provenance": []
  },
  "kernelspec": {
   "display_name": "Python 3 (ipykernel)",
   "language": "python",
   "name": "python3"
  },
  "language_info": {
   "codemirror_mode": {
    "name": "ipython",
    "version": 3
   },
   "file_extension": ".py",
   "mimetype": "text/x-python",
   "name": "python",
   "nbconvert_exporter": "python",
   "pygments_lexer": "ipython3",
   "version": "3.9.6"
  }
 },
 "nbformat": 4,
 "nbformat_minor": 5
}
