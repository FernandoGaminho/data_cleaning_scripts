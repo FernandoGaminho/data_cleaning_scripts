{
 "cells": [
  {
   "cell_type": "code",
   "execution_count": 1,
   "id": "ed495010",
   "metadata": {},
   "outputs": [],
   "source": [
    "import re\n",
    "import os.path\n",
    "import numpy as np\n",
    "import pandas as pd\n",
    "from datetime import datetime\n",
    "from pyxlsb import open_workbook"
   ]
  },
  {
   "cell_type": "code",
   "execution_count": 2,
   "id": "55b1960a",
   "metadata": {},
   "outputs": [],
   "source": [
    "archivo = \"0_clientes_w02\" # <<<<<<< MODIFICAR "
   ]
  },
  {
   "cell_type": "code",
   "execution_count": 3,
   "id": "961e727d",
   "metadata": {},
   "outputs": [],
   "source": [
    "# \"C:\\Users\\FernandoManuelGamino\\Documents\\10_estructura_organizacional\\StoreCode_Preventa_45.xlsx\"\n",
    "path = \"../10_estructura_organizacional\"\n",
    "a_file = archivo+\".xlsx\"\n",
    "hoja = \"bd\"\n",
    "\n",
    "joined_path = os.path.join(path, a_file)\n",
    "df = pd.read_excel(joined_path,sheet_name=hoja)"
   ]
  },
  {
   "cell_type": "code",
   "execution_count": 4,
   "id": "0a629ba4",
   "metadata": {},
   "outputs": [],
   "source": [
    "df = df[['RETAILER_CODE', 'RUTA', 'EQUIPO', 'DEPOSITO', 'RETAILER_NAME','STATE' ]]"
   ]
  },
  {
   "cell_type": "code",
   "execution_count": 5,
   "id": "b13886d4",
   "metadata": {},
   "outputs": [],
   "source": [
    "df.rename(columns = {'RUTA':'Preventa','EQUIPO':'Equipo','DEPOSITO':'Oficina','RETAILER_CODE':'Retailer_Code','RETAILER_NAME':'Retailer_Name','STATE':'State'}, inplace = True)\n"
   ]
  },
  {
   "cell_type": "code",
   "execution_count": 6,
   "id": "f7c60322",
   "metadata": {},
   "outputs": [],
   "source": [
    "# Deposito = Oficina\n",
    "df['Oficina'] = df['Oficina'].map(lambda x: x[8:])\n",
    "df[[\"Oficina\"]] = df[[\"Oficina\"]].apply(lambda x: x.astype(str).str.capitalize())"
   ]
  },
  {
   "cell_type": "code",
   "execution_count": 7,
   "id": "a70a8025",
   "metadata": {},
   "outputs": [],
   "source": [
    "# Offices cleaning\n",
    "df.loc[df['Oficina'].str.contains(r'Gdl'),'Oficina'] = 'Guadalajara'\n",
    "df.loc[df['Oficina'].str.contains(r'Reyes'),'Oficina'] = 'Los Reyes'"
   ]
  },
  {
   "cell_type": "code",
   "execution_count": 8,
   "id": "f7d94c3d",
   "metadata": {},
   "outputs": [],
   "source": [
    "# Equipo\n",
    "df['Equipo'] = df['Equipo'].map(lambda x: x.lstrip('EQUIPO '))\n",
    "df['Equipo'] = df['Equipo'].map(lambda x: x[0])\n",
    "df['Equipo'] = df['Oficina']+\" 0\"+df['Equipo']"
   ]
  },
  {
   "cell_type": "code",
   "execution_count": 9,
   "id": "8a8fae19",
   "metadata": {},
   "outputs": [
    {
     "data": {
      "text/plain": [
       "0         Condesa 04\n",
       "1         Condesa 02\n",
       "2         Condesa 03\n",
       "3         Condesa 02\n",
       "4         Condesa 02\n",
       "             ...    \n",
       "168238     Puebla 03\n",
       "168239     Puebla 03\n",
       "168240     Puebla 03\n",
       "168241     Puebla 03\n",
       "168242     Puebla 02\n",
       "Name: Equipo, Length: 168243, dtype: object"
      ]
     },
     "execution_count": 9,
     "metadata": {},
     "output_type": "execute_result"
    }
   ],
   "source": [
    "df['Equipo']"
   ]
  },
  {
   "cell_type": "code",
   "execution_count": 11,
   "id": "6b816979",
   "metadata": {},
   "outputs": [],
   "source": [
    "df = df[['Retailer_Name','Retailer_Code', 'Preventa', 'Equipo','Oficina','State' ]]"
   ]
  },
  {
   "cell_type": "code",
   "execution_count": 12,
   "id": "f5541a25",
   "metadata": {},
   "outputs": [],
   "source": [
    "df.rename(columns = {'Oficina':'Oficina Comercial'}, inplace = True)"
   ]
  },
  {
   "cell_type": "code",
   "execution_count": 13,
   "id": "40aa110a",
   "metadata": {},
   "outputs": [
    {
     "data": {
      "text/html": [
       "<div>\n",
       "<style scoped>\n",
       "    .dataframe tbody tr th:only-of-type {\n",
       "        vertical-align: middle;\n",
       "    }\n",
       "\n",
       "    .dataframe tbody tr th {\n",
       "        vertical-align: top;\n",
       "    }\n",
       "\n",
       "    .dataframe thead th {\n",
       "        text-align: right;\n",
       "    }\n",
       "</style>\n",
       "<table border=\"1\" class=\"dataframe\">\n",
       "  <thead>\n",
       "    <tr style=\"text-align: right;\">\n",
       "      <th></th>\n",
       "      <th>Retailer_Name</th>\n",
       "      <th>Retailer_Code</th>\n",
       "      <th>Preventa</th>\n",
       "      <th>Equipo</th>\n",
       "      <th>Oficina Comercial</th>\n",
       "      <th>State</th>\n",
       "    </tr>\n",
       "  </thead>\n",
       "  <tbody>\n",
       "    <tr>\n",
       "      <th>0</th>\n",
       "      <td>POLLERIA  LA ESCONDIDITA</td>\n",
       "      <td>114706262021135012</td>\n",
       "      <td>PVTacubaya047</td>\n",
       "      <td>Condesa 04</td>\n",
       "      <td>Condesa</td>\n",
       "      <td>CDMX</td>\n",
       "    </tr>\n",
       "    <tr>\n",
       "      <th>1</th>\n",
       "      <td>TIENDITA GOMEZ</td>\n",
       "      <td>110205172021105543</td>\n",
       "      <td>PVTacubaya024</td>\n",
       "      <td>Condesa 02</td>\n",
       "      <td>Condesa</td>\n",
       "      <td>CDMX</td>\n",
       "    </tr>\n",
       "    <tr>\n",
       "      <th>2</th>\n",
       "      <td>ABTS LA PROVIDENCIA</td>\n",
       "      <td>112906192021110716</td>\n",
       "      <td>PVTacubaya030</td>\n",
       "      <td>Condesa 03</td>\n",
       "      <td>Condesa</td>\n",
       "      <td>CDMX</td>\n",
       "    </tr>\n",
       "    <tr>\n",
       "      <th>3</th>\n",
       "      <td>MISCELANEA TERE</td>\n",
       "      <td>110205182021093511</td>\n",
       "      <td>PVTacubaya022</td>\n",
       "      <td>Condesa 02</td>\n",
       "      <td>Condesa</td>\n",
       "      <td>CDMX</td>\n",
       "    </tr>\n",
       "    <tr>\n",
       "      <th>4</th>\n",
       "      <td>POLLERIA GARCIA</td>\n",
       "      <td>110205182021125433</td>\n",
       "      <td>PVTacubaya022</td>\n",
       "      <td>Condesa 02</td>\n",
       "      <td>Condesa</td>\n",
       "      <td>CDMX</td>\n",
       "    </tr>\n",
       "  </tbody>\n",
       "</table>\n",
       "</div>"
      ],
      "text/plain": [
       "              Retailer_Name       Retailer_Code       Preventa      Equipo  \\\n",
       "0  POLLERIA  LA ESCONDIDITA  114706262021135012  PVTacubaya047  Condesa 04   \n",
       "1            TIENDITA GOMEZ  110205172021105543  PVTacubaya024  Condesa 02   \n",
       "2       ABTS LA PROVIDENCIA  112906192021110716  PVTacubaya030  Condesa 03   \n",
       "3           MISCELANEA TERE  110205182021093511  PVTacubaya022  Condesa 02   \n",
       "4           POLLERIA GARCIA  110205182021125433  PVTacubaya022  Condesa 02   \n",
       "\n",
       "  Oficina Comercial State  \n",
       "0           Condesa  CDMX  \n",
       "1           Condesa  CDMX  \n",
       "2           Condesa  CDMX  \n",
       "3           Condesa  CDMX  \n",
       "4           Condesa  CDMX  "
      ]
     },
     "execution_count": 13,
     "metadata": {},
     "output_type": "execute_result"
    }
   ],
   "source": [
    "df.head()"
   ]
  },
  {
   "cell_type": "code",
   "execution_count": 14,
   "id": "9661d840",
   "metadata": {},
   "outputs": [],
   "source": [
    "# Exportar archivo:\n",
    "b_file = archivo+\"_limpia.xlsx\"\n",
    "joined_path2 = os.path.join(path, b_file)\n",
    "df.to_excel(joined_path2,sheet_name=\"Equipo_Ventas\", index=False)"
   ]
  }
 ],
 "metadata": {
  "kernelspec": {
   "display_name": "Python 3 (ipykernel)",
   "language": "python",
   "name": "python3"
  },
  "language_info": {
   "codemirror_mode": {
    "name": "ipython",
    "version": 3
   },
   "file_extension": ".py",
   "mimetype": "text/x-python",
   "name": "python",
   "nbconvert_exporter": "python",
   "pygments_lexer": "ipython3",
   "version": "3.9.6"
  }
 },
 "nbformat": 4,
 "nbformat_minor": 5
}
