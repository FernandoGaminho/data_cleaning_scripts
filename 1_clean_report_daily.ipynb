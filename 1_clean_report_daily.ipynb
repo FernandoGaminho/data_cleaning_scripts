{
 "cells": [
  {
   "cell_type": "code",
   "execution_count": 1,
   "id": "0b4a7db0",
   "metadata": {
    "executionInfo": {
     "elapsed": 12,
     "status": "ok",
     "timestamp": 1630988454109,
     "user": {
      "displayName": "Fernando Manuel Gamino Torres",
      "photoUrl": "https://lh3.googleusercontent.com/a-/AOh14GjiYo9mTJNaYFrzccPZp7ueV6HgmH2ahC4tgvQX=s64",
      "userId": "13456855925853612789"
     },
     "user_tz": 300
    },
    "id": "0b4a7db0"
   },
   "outputs": [],
   "source": [
    "fecha_entrega = \"0113\"  # <<<<<<< MODIFICAR DIARIOOOO"
   ]
  },
  {
   "cell_type": "code",
   "execution_count": 2,
   "id": "79cf3bf0",
   "metadata": {
    "executionInfo": {
     "elapsed": 144,
     "status": "ok",
     "timestamp": 1630988453955,
     "user": {
      "displayName": "Fernando Manuel Gamino Torres",
      "photoUrl": "https://lh3.googleusercontent.com/a-/AOh14GjiYo9mTJNaYFrzccPZp7ueV6HgmH2ahC4tgvQX=s64",
      "userId": "13456855925853612789"
     },
     "user_tz": 300
    },
    "id": "79cf3bf0"
   },
   "outputs": [],
   "source": [
    "from datetime import datetime\n",
    "import pandas as pd\n",
    "import numpy as np\n",
    "import os.path\n",
    "import re"
   ]
  },
  {
   "cell_type": "markdown",
   "id": "0153f9f5",
   "metadata": {
    "id": "0153f9f5"
   },
   "source": [
    "# Carga y preparación de [df]\n"
   ]
  },
  {
   "cell_type": "code",
   "execution_count": 3,
   "id": "6ea57752",
   "metadata": {
    "executionInfo": {
     "elapsed": 780,
     "status": "ok",
     "timestamp": 1630988454879,
     "user": {
      "displayName": "Fernando Manuel Gamino Torres",
      "photoUrl": "https://lh3.googleusercontent.com/a-/AOh14GjiYo9mTJNaYFrzccPZp7ueV6HgmH2ahC4tgvQX=s64",
      "userId": "13456855925853612789"
     },
     "user_tz": 300
    },
    "id": "6ea57752"
   },
   "outputs": [],
   "source": [
    "# \"C:\\Users\\FernandoManuelGamino\\Documents\\2_reporte_al_cierre\\Reporte rechazo 14092021.xlsx\"\n",
    "\n",
    "path = \"../2_reporte_al_cierre\"\n",
    "a_file = fecha_entrega+\"2022 rechazo.xlsx\"\n",
    "reporte = \"RPT_Rejection_Rabbit\"\n",
    "\n",
    "joined_path = os.path.join(path, a_file)\n",
    "df = pd.read_excel(joined_path,sheet_name=reporte)"
   ]
  },
  {
   "cell_type": "code",
   "execution_count": 4,
   "id": "608f3235",
   "metadata": {
    "colab": {
     "base_uri": "https://localhost:8080/"
    },
    "executionInfo": {
     "elapsed": 57,
     "status": "ok",
     "timestamp": 1630988454890,
     "user": {
      "displayName": "Fernando Manuel Gamino Torres",
      "photoUrl": "https://lh3.googleusercontent.com/a-/AOh14GjiYo9mTJNaYFrzccPZp7ueV6HgmH2ahC4tgvQX=s64",
      "userId": "13456855925853612789"
     },
     "user_tz": 300
    },
    "id": "608f3235",
    "outputId": "18869088-01a6-43c2-8d93-ba5856a636f2"
   },
   "outputs": [
    {
     "data": {
      "text/plain": [
       "Index(['Logistic Distributor', 'Delivery Route', 'Delivery Name', 'Region',\n",
       "       'City', 'Channel', 'Sub Channel', 'Customer Type', 'Store code',\n",
       "       'Preventa', 'Supervisor', 'Store name', 'Actual Order Number',\n",
       "       'Actual Order Date', 'Actual Order Pieces', 'Actual Order IEPS',\n",
       "       'Actual Order IVA', 'Actual Order Value', 'Invoice number',\n",
       "       'Invoice Date', 'Invoice Units', 'Invoiced IEPS', 'Invoiced IVA',\n",
       "       'Net Sales Invoice Value', 'Rejection %', 'Rejection Value',\n",
       "       'Rejection % Qty', 'Rejection Qty', 'Rejection Reason', 'visitado',\n",
       "       'Rejection Reason.1'],\n",
       "      dtype='object')"
      ]
     },
     "execution_count": 4,
     "metadata": {},
     "output_type": "execute_result"
    }
   ],
   "source": [
    "df.columns"
   ]
  },
  {
   "cell_type": "markdown",
   "id": "3538def9",
   "metadata": {
    "id": "3538def9"
   },
   "source": [
    "# Homogenización de motivo de rechazos"
   ]
  },
  {
   "cell_type": "code",
   "execution_count": 5,
   "id": "7bbc7855",
   "metadata": {},
   "outputs": [],
   "source": [
    "# Elminiar ultimas 2 columnas y también cruce de información\n",
    "for x in range(2):\n",
    "    df = df.iloc[: , :-1]"
   ]
  },
  {
   "cell_type": "code",
   "execution_count": 6,
   "id": "3ae9722a",
   "metadata": {
    "executionInfo": {
     "elapsed": 50,
     "status": "ok",
     "timestamp": 1630988454892,
     "user": {
      "displayName": "Fernando Manuel Gamino Torres",
      "photoUrl": "https://lh3.googleusercontent.com/a-/AOh14GjiYo9mTJNaYFrzccPZp7ueV6HgmH2ahC4tgvQX=s64",
      "userId": "13456855925853612789"
     },
     "user_tz": 300
    },
    "id": "3ae9722a"
   },
   "outputs": [],
   "source": [
    "df.rename(columns = {'Rejection Reason':'Rejection_Reason'}, inplace = True)"
   ]
  },
  {
   "cell_type": "code",
   "execution_count": 7,
   "id": "0b8130b5",
   "metadata": {},
   "outputs": [],
   "source": [
    "# Quitar Acentos\n",
    "df['Rejection_Reason'] = df['Rejection_Reason'].str.normalize('NFKD').str.encode('ascii', errors='ignore').str.decode('utf-8')"
   ]
  },
  {
   "cell_type": "code",
   "execution_count": 8,
   "id": "dbc5cb6f",
   "metadata": {
    "executionInfo": {
     "elapsed": 33,
     "status": "ok",
     "timestamp": 1630988454896,
     "user": {
      "displayName": "Fernando Manuel Gamino Torres",
      "photoUrl": "https://lh3.googleusercontent.com/a-/AOh14GjiYo9mTJNaYFrzccPZp7ueV6HgmH2ahC4tgvQX=s64",
      "userId": "13456855925853612789"
     },
     "user_tz": 300
    },
    "id": "dbc5cb6f"
   },
   "outputs": [],
   "source": [
    "# quitar los nulos\n",
    "df['Rejection_Reason'] = df['Rejection_Reason'].fillna(\"vacio\")"
   ]
  },
  {
   "cell_type": "code",
   "execution_count": 9,
   "id": "9200110a",
   "metadata": {
    "colab": {
     "base_uri": "https://localhost:8080/"
    },
    "executionInfo": {
     "elapsed": 33,
     "status": "ok",
     "timestamp": 1630988454898,
     "user": {
      "displayName": "Fernando Manuel Gamino Torres",
      "photoUrl": "https://lh3.googleusercontent.com/a-/AOh14GjiYo9mTJNaYFrzccPZp7ueV6HgmH2ahC4tgvQX=s64",
      "userId": "13456855925853612789"
     },
     "user_tz": 300
    },
    "id": "9200110a",
    "outputId": "7a9a4fd2-c734-467b-ca88-6bdf88314310",
    "scrolled": true
   },
   "outputs": [
    {
     "data": {
      "text/plain": [
       "{' entregado',\n",
       " '01 Cerrado EN la visita',\n",
       " '02 Cliente Duplicado',\n",
       " '03 Cerrado TEMPORALMENTE',\n",
       " '05 En esta visita, no quiso comprar',\n",
       " '06 Cerrado Definitivo',\n",
       " '08 No existe',\n",
       " '09 Coordenadas Incorrectas',\n",
       " '10 No esta el encargado',\n",
       " '11 Cliente no corresponde al Modelo Rabbit',\n",
       " '1ra vuela cerrado',\n",
       " 'Entregado ',\n",
       " 'RECHAZO 01: Cerrado',\n",
       " 'RECHAZO 02: Cliente sin dinero',\n",
       " 'RECHAZO 03: Producto no solicitado (No pedido)',\n",
       " 'RECHAZO 04: Cliente No localizado',\n",
       " 'RECHAZO 05: Error en Captura (Mal digitado)',\n",
       " 'RECHAZO 09: Diferencia de precio',\n",
       " 'RECHAZO 10: Producto Agotado',\n",
       " 'cancelo el pedido. y no lo reporto el gerente de ventas',\n",
       " 'canselado ',\n",
       " 'e.tregado ',\n",
       " 'entregado',\n",
       " 'entregado ',\n",
       " 'no lo quiso porque pidio otra cosas, viene incompleto ',\n",
       " 'no pedido ',\n",
       " 'no quiso Pedido porque no venian las promociones ',\n",
       " 'pedido duplicado ',\n",
       " 'pedido fantasma',\n",
       " 'pedido solicitado en ubicacion distinta',\n",
       " 'producto  no surtido no hay en existencia ',\n",
       " 'producto entregado en ubicacion distinta de la aplicacion',\n",
       " 'se equivoco preventa',\n",
       " 'vacio',\n",
       " 'ya no habre'}"
      ]
     },
     "execution_count": 9,
     "metadata": {},
     "output_type": "execute_result"
    }
   ],
   "source": [
    "# imprimir rechazos sucio\n",
    "set(df['Rejection_Reason'])"
   ]
  },
  {
   "cell_type": "code",
   "execution_count": 10,
   "id": "vT53EZfDUnR1",
   "metadata": {
    "colab": {
     "base_uri": "https://localhost:8080/",
     "height": 1000
    },
    "executionInfo": {
     "elapsed": 192,
     "status": "ok",
     "timestamp": 1630988455066,
     "user": {
      "displayName": "Fernando Manuel Gamino Torres",
      "photoUrl": "https://lh3.googleusercontent.com/a-/AOh14GjiYo9mTJNaYFrzccPZp7ueV6HgmH2ahC4tgvQX=s64",
      "userId": "13456855925853612789"
     },
     "user_tz": 300
    },
    "id": "vT53EZfDUnR1",
    "outputId": "c88c755d-f36f-4592-acb9-be6cd1e0cfaa"
   },
   "outputs": [
    {
     "data": {
      "text/plain": [
       "(5883, 29)"
      ]
     },
     "execution_count": 10,
     "metadata": {},
     "output_type": "execute_result"
    }
   ],
   "source": [
    "# dimenciones de data frame\n",
    "df.shape"
   ]
  },
  {
   "cell_type": "code",
   "execution_count": 11,
   "id": "0c841418",
   "metadata": {
    "executionInfo": {
     "elapsed": 20,
     "status": "ok",
     "timestamp": 1630988455068,
     "user": {
      "displayName": "Fernando Manuel Gamino Torres",
      "photoUrl": "https://lh3.googleusercontent.com/a-/AOh14GjiYo9mTJNaYFrzccPZp7ueV6HgmH2ahC4tgvQX=s64",
      "userId": "13456855925853612789"
     },
     "user_tz": 300
    },
    "id": "0c841418"
   },
   "outputs": [],
   "source": [
    "R1 = 'RECHAZO 01: Cerrado'\n",
    "\n",
    "df.loc[df['Rejection_Reason'].str\n",
    "    .contains(r'cerrado',flags = re.IGNORECASE),'Rejection_Reason'] = R1\n",
    "df.loc[df['Rejection_Reason'].str\n",
    "    .contains(r'cerro',flags = re.IGNORECASE),'Rejection_Reason'] = R1\n",
    "df.loc[df['Rejection_Reason'].str\n",
    "    .contains(r'cerrada',flags = re.IGNORECASE),'Rejection_Reason'] = R1\n",
    "df.loc[df['Rejection_Reason'].str\n",
    "    .contains(r'no abren',flags = re.IGNORECASE),'Rejection_Reason'] = R1\n",
    "df.loc[df['Rejection_Reason'].str\n",
    "    .contains(r'cerredo',flags = re.IGNORECASE),'Rejection_Reason'] = R1\n",
    "df.loc[df['Rejection_Reason'].str\n",
    "    .contains(r'no abre',flags = re.IGNORECASE),'Rejection_Reason'] = R1\n",
    "df.loc[df['Rejection_Reason'].str\n",
    "    .contains(r'serrado',flags = re.IGNORECASE),'Rejection_Reason'] = R1\n",
    "df.loc[df['Rejection_Reason'].str\n",
    "    .contains(r'no abrio',flags = re.IGNORECASE),'Rejection_Reason'] = R1\n",
    "df.loc[df['Rejection_Reason'].str\n",
    "    .contains(r'no la abren',flags = re.IGNORECASE),'Rejection_Reason'] = R1\n",
    "df.loc[df['Rejection_Reason'].str\n",
    "    .contains(r'vacaciones',flags = re.IGNORECASE),'Rejection_Reason'] = R1"
   ]
  },
  {
   "cell_type": "code",
   "execution_count": 12,
   "id": "2e133bc8",
   "metadata": {
    "executionInfo": {
     "elapsed": 21,
     "status": "ok",
     "timestamp": 1630988455071,
     "user": {
      "displayName": "Fernando Manuel Gamino Torres",
      "photoUrl": "https://lh3.googleusercontent.com/a-/AOh14GjiYo9mTJNaYFrzccPZp7ueV6HgmH2ahC4tgvQX=s64",
      "userId": "13456855925853612789"
     },
     "user_tz": 300
    },
    "id": "2e133bc8"
   },
   "outputs": [],
   "source": [
    "R2 = 'RECHAZO 02: Sin Dinero'\n",
    "\n",
    "df.loc[df['Rejection_Reason'].str\n",
    "    .contains(r'sin dinero',flags = re.IGNORECASE),'Rejection_Reason'] = R2\n",
    "df.loc[df['Rejection_Reason'].str\n",
    "    .contains(r'no tiene dinero',flags = re.IGNORECASE),'Rejection_Reason'] = R2\n",
    "df.loc[df['Rejection_Reason'].str\n",
    "    .contains(r'no tener dinero',flags = re.IGNORECASE),'Rejection_Reason'] = R2"
   ]
  },
  {
   "cell_type": "code",
   "execution_count": 13,
   "id": "fec55b44",
   "metadata": {
    "executionInfo": {
     "elapsed": 22,
     "status": "ok",
     "timestamp": 1630988455073,
     "user": {
      "displayName": "Fernando Manuel Gamino Torres",
      "photoUrl": "https://lh3.googleusercontent.com/a-/AOh14GjiYo9mTJNaYFrzccPZp7ueV6HgmH2ahC4tgvQX=s64",
      "userId": "13456855925853612789"
     },
     "user_tz": 300
    },
    "id": "fec55b44"
   },
   "outputs": [],
   "source": [
    "R3 =  'RECHAZO 03: Producto no solicitado (No Pedido)'\n",
    "\n",
    "df.loc[df['Rejection_Reason'].str\n",
    "    .contains(r'\\bno.+?pedido\\b',flags = re.IGNORECASE),'Rejection_Reason'] = R3\n",
    "df.loc[df['Rejection_Reason'].str\n",
    "    .contains(r'Cliente no corresponde al Modelo Rabbit',flags = re.IGNORECASE),'Rejection_Reason'] = R3\n",
    "df.loc[df['Rejection_Reason'].str\n",
    "    .contains(r'le siguen metiendo pedido',flags = re.IGNORECASE),'Rejection_Reason'] = R3\n",
    "df.loc[df['Rejection_Reason'].str\n",
    "    .contains(r'no solisito nada',flags = re.IGNORECASE),'Rejection_Reason'] = R3\n",
    "df.loc[df['Rejection_Reason'].str\n",
    "    .contains(r'producto no solicitado',flags = re.IGNORECASE),'Rejection_Reason'] = R3\n",
    "df.loc[df['Rejection_Reason'].str\n",
    "    .contains(r'no pidio nada',flags = re.IGNORECASE),'Rejection_Reason'] = R3\n",
    "df.loc[df['Rejection_Reason'].str\n",
    "    .contains(r'no trabaja con nosotros',flags = re.IGNORECASE),'Rejection_Reason'] = R3\n",
    "df.loc[df['Rejection_Reason'].str\n",
    "    .contains(r'no paso preventa',flags = re.IGNORECASE),'Rejection_Reason'] = R3\n",
    "df.loc[df['Rejection_Reason'].str\n",
    "    .contains(r'no pide',flags = re.IGNORECASE),'Rejection_Reason'] = R3\n",
    "df.loc[df['Rejection_Reason'].str\n",
    "    .contains(r'no pidio',flags = re.IGNORECASE),'Rejection_Reason'] = R3\n",
    "df.loc[df['Rejection_Reason'].str\n",
    "    .contains(r'no iso ni un pedido',flags = re.IGNORECASE),'Rejection_Reason'] = R3\n",
    "df.loc[df['Rejection_Reason'].str\n",
    "    .contains(r'no solicito ningun pedido',flags = re.IGNORECASE),'Rejection_Reason'] = R3\n",
    "df.loc[df['Rejection_Reason'].str\n",
    "    .contains(r'no solicito',flags = re.IGNORECASE),'Rejection_Reason'] = R3\n",
    "df.loc[df['Rejection_Reason'].str\n",
    "    .contains(r'no pidieron',flags = re.IGNORECASE),'Rejection_Reason'] = R3\n",
    "df.loc[df['Rejection_Reason'].str\n",
    "    .contains(r'no trabaja con rabbit',flags = re.IGNORECASE),'Rejection_Reason'] = R3\n",
    "df.loc[df['Rejection_Reason'].str\n",
    "    .contains(r'sin pedido',flags = re.IGNORECASE),'Rejection_Reason'] = R3\n",
    "df.loc[df['Rejection_Reason'].str\n",
    "    .contains(r'duplicado',flags = re.IGNORECASE),'Rejection_Reason'] = R3\n",
    "df.loc[df['Rejection_Reason'].str\n",
    "    .contains(r'no conocen',flags = re.IGNORECASE),'Rejection_Reason'] = R3\n",
    "df.loc[df['Rejection_Reason'].str\n",
    "    .contains(r'No existe',flags = re.IGNORECASE),'Rejection_Reason'] = R3\n",
    "df.loc[df['Rejection_Reason'].str\n",
    "    .contains(r'fantasma',flags = re.IGNORECASE),'Rejection_Reason'] = R3\n",
    "df.loc[df['Rejection_Reason'].str\n",
    "    .contains(r'no existe cliente',flags = re.IGNORECASE),'Rejection_Reason'] = R3\n",
    "df.loc[df['Rejection_Reason'].str\n",
    "    .contains(r'no existe',flags = re.IGNORECASE),'Rejection_Reason'] = R3\n",
    "df.loc[df['Rejection_Reason'].str\n",
    "    .contains(r'repetido',flags = re.IGNORECASE),'Rejection_Reason'] = R3\n",
    "df.loc[df['Rejection_Reason'].str\n",
    "    .contains(r'pedido falzo',flags = re.IGNORECASE),'Rejection_Reason'] = R3\n",
    "df.loc[df['Rejection_Reason'].str\n",
    "    .contains(r'punto en ivy pero no fisico',flags = re.IGNORECASE),'Rejection_Reason'] = R3\n",
    "df.loc[df['Rejection_Reason'].str\n",
    "    .contains(r'pedido falso',flags = re.IGNORECASE),'Rejection_Reason'] = R3\n",
    "df.loc[df['Rejection_Reason'].str\n",
    "    .contains(r'no hace pedidos',flags = re.IGNORECASE),'Rejection_Reason'] = R3\n",
    "df.loc[df['Rejection_Reason'].str\n",
    "    .contains(r'no solicitado',flags = re.IGNORECASE),'Rejection_Reason'] = R3\n",
    "df.loc[df['Rejection_Reason'].str\n",
    "    .contains(r'incumplir con lo pactado',flags = re.IGNORECASE),'Rejection_Reason'] = R3\n",
    "df.loc[df['Rejection_Reason'].str\n",
    "    .contains(r'nunca hace pedido',flags = re.IGNORECASE),'Rejection_Reason'] = R3\n",
    "df.loc[df['Rejection_Reason'].str\n",
    "    .contains(r'ya no habre',flags = re.IGNORECASE),'Rejection_Reason'] = R3"
   ]
  },
  {
   "cell_type": "code",
   "execution_count": 14,
   "id": "ca203ed4",
   "metadata": {
    "executionInfo": {
     "elapsed": 23,
     "status": "ok",
     "timestamp": 1630988455075,
     "user": {
      "displayName": "Fernando Manuel Gamino Torres",
      "photoUrl": "https://lh3.googleusercontent.com/a-/AOh14GjiYo9mTJNaYFrzccPZp7ueV6HgmH2ahC4tgvQX=s64",
      "userId": "13456855925853612789"
     },
     "user_tz": 300
    },
    "id": "ca203ed4"
   },
   "outputs": [],
   "source": [
    "R4 = 'RECHAZO 04: Cliente No Localizado'\n",
    "\n",
    "df.loc[df['Rejection_Reason'].str\n",
    "    .contains(r'no localizado',flags = re.IGNORECASE),'Rejection_Reason'] = R4\n",
    "df.loc[df['Rejection_Reason'].str\n",
    "    .contains(r'no es tienda',flags = re.IGNORECASE),'Rejection_Reason'] = R4\n",
    "df.loc[df['Rejection_Reason'].str\n",
    "    .contains(r'Cambio de Giro',flags = re.IGNORECASE),'Rejection_Reason'] = R4\n",
    "df.loc[df['Rejection_Reason'].str\n",
    "    .contains(r'encuentra la tienda',flags = re.IGNORECASE),'Rejection_Reason'] = R4\n",
    "df.loc[df['Rejection_Reason'].str\n",
    "    .contains(r'geolocalizado',flags = re.IGNORECASE),'Rejection_Reason'] = R4\n",
    "df.loc[df['Rejection_Reason'].str\n",
    "    .contains(r'locaizado',flags = re.IGNORECASE),'Rejection_Reason'] = R4"
   ]
  },
  {
   "cell_type": "code",
   "execution_count": 15,
   "id": "576cd057",
   "metadata": {
    "executionInfo": {
     "elapsed": 25,
     "status": "ok",
     "timestamp": 1630988455078,
     "user": {
      "displayName": "Fernando Manuel Gamino Torres",
      "photoUrl": "https://lh3.googleusercontent.com/a-/AOh14GjiYo9mTJNaYFrzccPZp7ueV6HgmH2ahC4tgvQX=s64",
      "userId": "13456855925853612789"
     },
     "user_tz": 300
    },
    "id": "576cd057"
   },
   "outputs": [],
   "source": [
    "#  'RECHAZO 05: Error en Captura (Mal digitado)'\n",
    "R5 = 'RECHAZO 05: Error en Captura (Mal digitado)'\n",
    "\n",
    "df.loc[df['Rejection_Reason'].str\n",
    "    .contains(r'mal digitado',flags = re.IGNORECASE),'Rejection_Reason'] = R5\n",
    "df.loc[df['Rejection_Reason'].str\n",
    "    .contains(r'Pedido mal',flags = re.IGNORECASE),'Rejection_Reason'] = R5\n",
    "df.loc[df['Rejection_Reason'].str\n",
    "    .contains(r'mal capturado',flags = re.IGNORECASE),'Rejection_Reason'] = R5\n",
    "df.loc[df['Rejection_Reason'].str\n",
    "    .contains(r'error de captura',flags = re.IGNORECASE),'Rejection_Reason'] = R5"
   ]
  },
  {
   "cell_type": "code",
   "execution_count": 16,
   "id": "86a946cc",
   "metadata": {
    "executionInfo": {
     "elapsed": 226,
     "status": "ok",
     "timestamp": 1630988455281,
     "user": {
      "displayName": "Fernando Manuel Gamino Torres",
      "photoUrl": "https://lh3.googleusercontent.com/a-/AOh14GjiYo9mTJNaYFrzccPZp7ueV6HgmH2ahC4tgvQX=s64",
      "userId": "13456855925853612789"
     },
     "user_tz": 300
    },
    "id": "86a946cc"
   },
   "outputs": [],
   "source": [
    "# 'RECHAZO 06: Mercancia Incorrecta', no es lo k el cliente pidio,  no es producto so\n",
    "R6 = 'RECHAZO 06: Mercancía Incorrecta'\n",
    "\n",
    "df.loc[df['Rejection_Reason'].str\n",
    "    .contains(r'Mercancia Incorrecta',flags = re.IGNORECASE),'Rejection_Reason'] = R6\n",
    "df.loc[df['Rejection_Reason'].str\n",
    "    .contains(r'no es lo k el cliente pidio',flags = re.IGNORECASE),'Rejection_Reason'] = R6\n",
    "df.loc[df['Rejection_Reason'].str\n",
    "    .contains(r'no es producto so',flags = re.IGNORECASE),'Rejection_Reason'] = R6\n",
    "df.loc[df['Rejection_Reason'].str\n",
    "    .contains(r'no es la que queria',flags = re.IGNORECASE),'Rejection_Reason'] = R6\n",
    "df.loc[df['Rejection_Reason'].str\n",
    "    .contains(r'incorrecta',flags = re.IGNORECASE),'Rejection_Reason'] = R6\n",
    "df.loc[df['Rejection_Reason'].str\n",
    "    .contains(r'no llegar completo',flags = re.IGNORECASE),'Rejection_Reason'] = R6\n",
    "df.loc[df['Rejection_Reason'].str\n",
    "    .contains(r'no  es',flags = re.IGNORECASE),'Rejection_Reason'] = R6\n",
    "df.loc[df['Rejection_Reason'].str\n",
    "    .contains(r'Producto equivocado',flags = re.IGNORECASE),'Rejection_Reason'] = R6\n"
   ]
  },
  {
   "cell_type": "code",
   "execution_count": 17,
   "id": "098db6e3",
   "metadata": {
    "executionInfo": {
     "elapsed": 40,
     "status": "ok",
     "timestamp": 1630988455284,
     "user": {
      "displayName": "Fernando Manuel Gamino Torres",
      "photoUrl": "https://lh3.googleusercontent.com/a-/AOh14GjiYo9mTJNaYFrzccPZp7ueV6HgmH2ahC4tgvQX=s64",
      "userId": "13456855925853612789"
     },
     "user_tz": 300
    },
    "id": "098db6e3"
   },
   "outputs": [],
   "source": [
    "R7 = \"RECHAZO 07: Siniestro / Accidente\"\n",
    "\n",
    "df.loc[df['Rejection_Reason'].str\n",
    "    .contains(r'problema con la unidad',flags = re.IGNORECASE),'Rejection_Reason'] = R7\n",
    "df.loc[df['Rejection_Reason'].str\n",
    "    .contains(r'robo',flags = re.IGNORECASE),'Rejection_Reason'] = R7\n",
    "df.loc[df['Rejection_Reason'].str\n",
    "    .contains(r'roja',flags = re.IGNORECASE),'Rejection_Reason'] = R7\n",
    "df.loc[df['Rejection_Reason'].str\n",
    "    .contains(r'insegura',flags = re.IGNORECASE),'Rejection_Reason'] = R7\n",
    "df.loc[df['Rejection_Reason'].str\n",
    "    .contains(r'accidente',flags = re.IGNORECASE),'Rejection_Reason'] = R7\n",
    "df.loc[df['Rejection_Reason'].str\n",
    "    .contains(r'urgencia',flags = re.IGNORECASE),'Rejection_Reason'] = R7\n",
    "df.loc[df['Rejection_Reason'].str\n",
    "    .contains(r'incidencia',flags = re.IGNORECASE),'Rejection_Reason'] = R7"
   ]
  },
  {
   "cell_type": "code",
   "execution_count": 18,
   "id": "f75fd0b9",
   "metadata": {
    "executionInfo": {
     "elapsed": 41,
     "status": "ok",
     "timestamp": 1630988455286,
     "user": {
      "displayName": "Fernando Manuel Gamino Torres",
      "photoUrl": "https://lh3.googleusercontent.com/a-/AOh14GjiYo9mTJNaYFrzccPZp7ueV6HgmH2ahC4tgvQX=s64",
      "userId": "13456855925853612789"
     },
     "user_tz": 300
    },
    "id": "f75fd0b9"
   },
   "outputs": [],
   "source": [
    "R8 = \"RECHAZO 08: No visitado por transporte\"\n",
    "\n",
    "df.loc[df['Rejection_Reason'].str\n",
    "    .contains(r'no visitado',flags = re.IGNORECASE),'Rejection_Reason'] = R8\n",
    "df.loc[df['Rejection_Reason'].str\n",
    "    .contains(r'no visistado',flags = re.IGNORECASE),'Rejection_Reason'] = R8\n",
    "df.loc[df['Rejection_Reason'].str\n",
    "    .contains(r'fuera de zona',flags = re.IGNORECASE),'Rejection_Reason'] = R8\n",
    "df.loc[df['Rejection_Reason'].str\n",
    "    .contains(r'cliente alejado',flags = re.IGNORECASE),'Rejection_Reason'] = R8\n",
    "df.loc[df['Rejection_Reason'].str\n",
    "    .contains(r'otro',flags = re.IGNORECASE),'Rejection_Reason'] = R8"
   ]
  },
  {
   "cell_type": "code",
   "execution_count": 19,
   "id": "b7a29690",
   "metadata": {
    "executionInfo": {
     "elapsed": 41,
     "status": "ok",
     "timestamp": 1630988455288,
     "user": {
      "displayName": "Fernando Manuel Gamino Torres",
      "photoUrl": "https://lh3.googleusercontent.com/a-/AOh14GjiYo9mTJNaYFrzccPZp7ueV6HgmH2ahC4tgvQX=s64",
      "userId": "13456855925853612789"
     },
     "user_tz": 300
    },
    "id": "b7a29690"
   },
   "outputs": [],
   "source": [
    "R9 = 'RECHAZO 09: Diferencia de precio'\n",
    "\n",
    "df.loc[df['Rejection_Reason'].str\n",
    "    .contains(r'percio',flags = re.IGNORECASE),'Rejection_Reason'] = R9\n",
    "df.loc[df['Rejection_Reason'].str\n",
    "    .contains(r'precios',flags = re.IGNORECASE),'Rejection_Reason'] = R9\n",
    "df.loc[df['Rejection_Reason'].str\n",
    "    .contains(r'caro',flags = re.IGNORECASE),'Rejection_Reason'] = R9\n",
    "df.loc[df['Rejection_Reason'].str\n",
    "    .contains(r'precio',flags = re.IGNORECASE),'Rejection_Reason'] = R9"
   ]
  },
  {
   "cell_type": "code",
   "execution_count": 20,
   "id": "2949e19f",
   "metadata": {
    "executionInfo": {
     "elapsed": 43,
     "status": "ok",
     "timestamp": 1630988455291,
     "user": {
      "displayName": "Fernando Manuel Gamino Torres",
      "photoUrl": "https://lh3.googleusercontent.com/a-/AOh14GjiYo9mTJNaYFrzccPZp7ueV6HgmH2ahC4tgvQX=s64",
      "userId": "13456855925853612789"
     },
     "user_tz": 300
    },
    "id": "2949e19f"
   },
   "outputs": [],
   "source": [
    "R10 = '10 No está el encargado'\n",
    "\n",
    "df.loc[df['Rejection_Reason'].str\n",
    "    .contains(r'No esta el encargado',flags = re.IGNORECASE),'Rejection_Reason'] = R10\n",
    "df.loc[df['Rejection_Reason'].str\n",
    "    .contains(r'no esta le jefa',flags = re.IGNORECASE),'Rejection_Reason'] = R10\n",
    "df.loc[df['Rejection_Reason'].str\n",
    "    .contains(r'No está el encargado',flags = re.IGNORECASE),'Rejection_Reason'] = R10\n",
    "df.loc[df['Rejection_Reason'].str\n",
    "    .contains(r'No estaba el encargado',flags = re.IGNORECASE),'Rejection_Reason'] = R10\n",
    "df.loc[df['Rejection_Reason'].str\n",
    "    .contains(r'encargado',flags = re.IGNORECASE),'Rejection_Reason'] = R10\n",
    "df.loc[df['Rejection_Reason'].str\n",
    "    .contains(r'no estuvo la duena',flags = re.IGNORECASE),'Rejection_Reason'] = R10\n",
    "df.loc[df['Rejection_Reason'].str\n",
    "    .contains(r'no dejaron indicaciones',flags = re.IGNORECASE),'Rejection_Reason'] = R10\n"
   ]
  },
  {
   "cell_type": "code",
   "execution_count": 21,
   "id": "225a2505",
   "metadata": {},
   "outputs": [],
   "source": [
    "R96 = \"09 Coordenadas Incorrectas\"\n",
    "df.loc[df['Rejection_Reason'].str\n",
    "    .contains(r'Coordenadas Incorrectas',flags = re.IGNORECASE),'Rejection_Reason'] = R96"
   ]
  },
  {
   "cell_type": "code",
   "execution_count": 22,
   "id": "33e795ff",
   "metadata": {},
   "outputs": [],
   "source": [
    "R97 = 'RECHAZO 97: Cancelado por el cliente'\n",
    "\n",
    "df.loc[df['Rejection_Reason'].str\n",
    "    .contains(r'cancela.pedido',flags = re.IGNORECASE),'Rejection_Reason'] = R97\n",
    "df.loc[df['Rejection_Reason'].str\n",
    "    .contains(r'ticket cancelado',flags = re.IGNORECASE),'Rejection_Reason'] = R97\n",
    "df.loc[df['Rejection_Reason'].str\n",
    "    .contains(r'no le gustó',flags = re.IGNORECASE),'Rejection_Reason'] = R97\n",
    "df.loc[df['Rejection_Reason'].str\n",
    "    .contains(r'Cancelado por el cliente',flags = re.IGNORECASE),'Rejection_Reason'] = R97\n",
    "df.loc[df['Rejection_Reason'].str\n",
    "    .contains(r'cancelar',flags = re.IGNORECASE),'Rejection_Reason'] = R97\n",
    "df.loc[df['Rejection_Reason'].str\n",
    "    .contains(r'no tener ticket',flags = re.IGNORECASE),'Rejection_Reason'] = R97\n",
    "df.loc[df['Rejection_Reason'].str\n",
    "    .contains(r'cancelado',flags = re.IGNORECASE),'Rejection_Reason'] = R97\n",
    "df.loc[df['Rejection_Reason'].str\n",
    "    .contains(r'cliente rechazo',flags = re.IGNORECASE),'Rejection_Reason'] = R97\n",
    "df.loc[df['Rejection_Reason'].str\n",
    "    .contains(r'rechazado por cliente',flags = re.IGNORECASE),'Rejection_Reason'] = R97\n",
    "df.loc[df['Rejection_Reason'].str\n",
    "    .contains(r'rechazo el cliente',flags = re.IGNORECASE),'Rejection_Reason'] = R97\n",
    "df.loc[df['Rejection_Reason'].str\n",
    "    .contains(r'cancelo el cliente',flags = re.IGNORECASE),'Rejection_Reason'] = R97\n",
    "df.loc[df['Rejection_Reason'].str\n",
    "    .contains(r'cancelo el cliente',flags = re.IGNORECASE),'Rejection_Reason'] = R97\n",
    "df.loc[df['Rejection_Reason'].str\n",
    "    .contains(r'no quiso el producto',flags = re.IGNORECASE),'Rejection_Reason'] = R97\n",
    "df.loc[df['Rejection_Reason'].str\n",
    "    .contains(r'no quiso comprar',flags = re.IGNORECASE),'Rejection_Reason'] = R97\n",
    "df.loc[df['Rejection_Reason'].str\n",
    "    .contains(r'lo esperaba ayer',flags = re.IGNORECASE),'Rejection_Reason'] = R97\n",
    "df.loc[df['Rejection_Reason'].str\n",
    "    .contains(r'no quiso recibir',flags = re.IGNORECASE),'Rejection_Reason'] = R97\n",
    "df.loc[df['Rejection_Reason'].str\n",
    "    .contains(r'no tiene el ticket',flags = re.IGNORECASE),'Rejection_Reason'] = R97\n",
    "df.loc[df['Rejection_Reason'].str\n",
    "    .contains(r'cancelada',flags = re.IGNORECASE),'Rejection_Reason'] = R97\n",
    "df.loc[df['Rejection_Reason'].str\n",
    "    .contains(r'cancela',flags = re.IGNORECASE),'Rejection_Reason'] = R97\n",
    "df.loc[df['Rejection_Reason'].str\n",
    "    .contains(r'ya no quiso',flags = re.IGNORECASE),'Rejection_Reason'] = R97\n",
    "df.loc[df['Rejection_Reason'].str\n",
    "    .contains(r'canselado',flags = re.IGNORECASE),'Rejection_Reason'] = R97"
   ]
  },
  {
   "cell_type": "code",
   "execution_count": 23,
   "id": "c542d59c",
   "metadata": {
    "executionInfo": {
     "elapsed": 43,
     "status": "ok",
     "timestamp": 1630988455292,
     "user": {
      "displayName": "Fernando Manuel Gamino Torres",
      "photoUrl": "https://lh3.googleusercontent.com/a-/AOh14GjiYo9mTJNaYFrzccPZp7ueV6HgmH2ahC4tgvQX=s64",
      "userId": "13456855925853612789"
     },
     "user_tz": 300
    },
    "id": "d925a411"
   },
   "outputs": [],
   "source": [
    "R98 = \"RECHAZO 98: Diferente a lo esperado\"\n",
    "\n",
    "df.loc[df['Rejection_Reason'].str\n",
    "    .contains(r'mala calidad',flags = re.IGNORECASE),'Rejection_Reason'] = R98\n",
    "df.loc[df['Rejection_Reason'].str\n",
    "    .contains(r'como lo indico el preventa',flags = re.IGNORECASE),'Rejection_Reason'] = R98\n",
    "df.loc[df['Rejection_Reason'].str\n",
    "    .contains(r'parafina',flags = re.IGNORECASE),'Rejection_Reason'] = R98\n",
    "df.loc[df['Rejection_Reason'].str\n",
    "    .contains(r'cancelado por el tamaño',flags = re.IGNORECASE),'Rejection_Reason'] = R98\n",
    "df.loc[df['Rejection_Reason'].str\n",
    "    .contains(r'diferente a lo esperado',flags = re.IGNORECASE),'Rejection_Reason'] = R98\n",
    "df.loc[df['Rejection_Reason'].str\n",
    "    .contains(r'no es lo que esperaba',flags = re.IGNORECASE),'Rejection_Reason'] = R98\n",
    "df.loc[df['Rejection_Reason'].str\n",
    "    .contains(r'no le convencio',flags = re.IGNORECASE),'Rejection_Reason'] = R98"
   ]
  },
  {
   "cell_type": "code",
   "execution_count": 24,
   "id": "f42c71fc",
   "metadata": {},
   "outputs": [],
   "source": [
    "R99 = 'RECHAZO 10: Producto Agotado'\n",
    "\n",
    "df.loc[df['Rejection_Reason'].str\n",
    "    .contains(r'agotado',flags = re.IGNORECASE),'Rejection_Reason'] = R99\n",
    "df.loc[df['Rejection_Reason'].str\n",
    "    .contains(r'desabasto',flags = re.IGNORECASE),'Rejection_Reason'] = R99\n",
    "df.loc[df['Rejection_Reason'].str\n",
    "    .contains(r'almacen',flags = re.IGNORECASE),'Rejection_Reason'] = R99\n",
    "df.loc[df['Rejection_Reason'].str\n",
    "    .contains(r'faltante',flags = re.IGNORECASE),'Rejection_Reason'] = R99\n",
    "df.loc[df['Rejection_Reason'].str\n",
    "    .contains(r'existencia',flags = re.IGNORECASE),'Rejection_Reason'] = R99\n",
    "df.loc[df['Rejection_Reason'].str\n",
    "    .contains(r'no hay',flags = re.IGNORECASE),'Rejection_Reason'] = R99\n",
    "df.loc[df['Rejection_Reason'].str\n",
    "    .contains(r'falta',flags = re.IGNORECASE),'Rejection_Reason'] = R99\n",
    "df.loc[df['Rejection_Reason'].str\n",
    "    .contains(r'sin mercancia',flags = re.IGNORECASE),'Rejection_Reason'] = R99\n",
    "df.loc[df['Rejection_Reason'].str\n",
    "    .contains(r'material',flags = re.IGNORECASE),'Rejection_Reason'] = R99\n",
    "df.loc[df['Rejection_Reason'].str\n",
    "    .contains(r'agotodo',flags = re.IGNORECASE),'Rejection_Reason'] = R99\n",
    "df.loc[df['Rejection_Reason'].str\n",
    "    .contains(r'no yego completo',flags = re.IGNORECASE),'Rejection_Reason'] = R99\n",
    "df.loc[df['Rejection_Reason'].str\n",
    "    .contains(r'no traigo',flags = re.IGNORECASE),'Rejection_Reason'] = R99\n",
    "df.loc[df['Rejection_Reason'].str\n",
    "    .contains(r'no traemos',flags = re.IGNORECASE),'Rejection_Reason'] = R99\n",
    "df.loc[df['Rejection_Reason'].str\n",
    "    .contains(r'desavasto',flags = re.IGNORECASE),'Rejection_Reason'] = R99\n",
    "df.loc[df['Rejection_Reason'].str\n",
    "    .contains(r'stock',flags = re.IGNORECASE),'Rejection_Reason'] = R99\n",
    "df.loc[df['Rejection_Reason'].str\n",
    "    .contains(r'no surtido',flags = re.IGNORECASE),'Rejection_Reason'] = R99\n",
    "df.loc[df['Rejection_Reason'].str\n",
    "    .contains(r'sin producto',flags = re.IGNORECASE),'Rejection_Reason'] = R99\n",
    "df.loc[df['Rejection_Reason'].str\n",
    "    .contains(r'producto cambiado',flags = re.IGNORECASE),'Rejection_Reason'] = R99\n",
    "df.loc[df['Rejection_Reason'].str\n",
    "    .contains(r'incompleto',flags = re.IGNORECASE),'Rejection_Reason'] = R99\n",
    "df.loc[df['Rejection_Reason'].str\n",
    "    .contains(r'cedis',flags = re.IGNORECASE),'Rejection_Reason'] = R99\n",
    "df.loc[df['Rejection_Reason'].str\n",
    "    .contains(r'bodega',flags = re.IGNORECASE),'Rejection_Reason'] = R99\n",
    "df.loc[df['Rejection_Reason'].str\n",
    "    .contains(r'escaso',flags = re.IGNORECASE),'Rejection_Reason'] = R99\n",
    "df.loc[df['Rejection_Reason'].str\n",
    "    .contains(r'stok',flags = re.IGNORECASE),'Rejection_Reason'] = R99\n",
    "df.loc[df['Rejection_Reason'].str\n",
    "    .contains(r'pedido en 0',flags = re.IGNORECASE),'Rejection_Reason'] = R99\n",
    "df.loc[df['Rejection_Reason'].str\n",
    "    .contains(r'no venir completo',flags = re.IGNORECASE),'Rejection_Reason'] = R99\n",
    "df.loc[df['Rejection_Reason'].str\n",
    "    .contains(r'dedabasto',flags = re.IGNORECASE),'Rejection_Reason'] = R99\n",
    "df.loc[df['Rejection_Reason'].str\n",
    "    .contains(r'pedido imcompleto',flags = re.IGNORECASE),'Rejection_Reason'] = R99\n",
    "df.loc[df['Rejection_Reason'].str\n",
    "    .contains(r'producto agotada',flags = re.IGNORECASE),'Rejection_Reason'] = R99\n",
    "df.loc[df['Rejection_Reason'].str\n",
    "    .contains(r'no le llegaron las veladoras',flags = re.IGNORECASE),'Rejection_Reason'] = R99\n",
    "df.loc[df['Rejection_Reason'].str\n",
    "    .contains(r'promocion',flags = re.IGNORECASE),'Rejection_Reason'] = R99\n"
   ]
  },
  {
   "cell_type": "markdown",
   "id": "90c6ba59",
   "metadata": {},
   "source": [
    "c = 'RECHAZO 96: Cliente no aparece en listado de ruta'\n",
    "\n",
    "df.loc[df['Rejection_Reason'].str\n",
    "    .contains(r'ciente no capturado en sistema',flags = re.IGNORECASE),'Rejection_Reason'] = c\n",
    "df.loc[df['Rejection_Reason'].str\n",
    "    .contains(r'cliente no aparce en listado',flags = re.IGNORECASE),'Rejection_Reason'] = c\n",
    "df.loc[df['Rejection_Reason'].str\n",
    "    .contains(r'cliente no aparece en sistema',flags = re.IGNORECASE),'Rejection_Reason'] = c\n",
    "df.loc[df['Rejection_Reason'].str\n",
    "    .contains(r'no capturado en sistema',flags = re.IGNORECASE),'Rejection_Reason'] = c\n",
    "df.loc[df['Rejection_Reason'].str\n",
    "    .contains(r'no captitado',flags = re.IGNORECASE),'Rejection_Reason'] = c\n",
    "df.loc[df['Rejection_Reason'].str\n",
    "    .contains(r'sistema',flags = re.IGNORECASE),'Rejection_Reason'] = c\n",
    "df.loc[df['Rejection_Reason'].str\n",
    "    .contains(r'sisteNa',flags = re.IGNORECASE),'Rejection_Reason'] = c"
   ]
  },
  {
   "cell_type": "raw",
   "id": "ab4bbe66",
   "metadata": {},
   "source": [
    "f = 'RECHAZO 95: Error de aplicacion (No aparece producto)'\n",
    "\n",
    "df.loc[df['Rejection_Reason'].str\n",
    "    .contains(r'no aparece',flags = re.IGNORECASE),'Rejection_Reason'] = f\n",
    "df.loc[df['Rejection_Reason'].str\n",
    "    .contains(r'aplicacion',flags = re.IGNORECASE),'Rejection_Reason'] = f\n",
    "df.loc[df['Rejection_Reason'].str\n",
    "    .contains(r'app',flags = re.IGNORECASE),'Rejection_Reason'] = f\n",
    "df.loc[df['Rejection_Reason'].str\n",
    "    .contains(r'falla',flags = re.IGNORECASE),'Rejection_Reason'] = f\n",
    "df.loc[df['Rejection_Reason'].str\n",
    "    .contains(r'producto no aparese',flags = re.IGNORECASE),'Rejection_Reason'] = f"
   ]
  },
  {
   "cell_type": "code",
   "execution_count": 25,
   "id": "e56992a5",
   "metadata": {},
   "outputs": [],
   "source": [
    "e = 'entregado'\n",
    "\n",
    "df.loc[df['Rejection_Reason'].str\n",
    "    .contains(r'parcial',flags = re.IGNORECASE),'Rejection_Reason'] = e\n",
    "df.loc[df['Rejection_Reason'].str\n",
    "    .contains(r'entregado',flags = re.IGNORECASE),'Rejection_Reason'] = e\n",
    "df.loc[df['Rejection_Reason'].str\n",
    "    .contains(r'entregada',flags = re.IGNORECASE),'Rejection_Reason'] = e\n",
    "df.loc[df['Rejection_Reason'].str\n",
    "    .contains(r'entregdo',flags = re.IGNORECASE),'Rejection_Reason'] = e\n",
    "df.loc[df['Rejection_Reason'].str\n",
    "    .contains(r'entrego',flags = re.IGNORECASE),'Rejection_Reason'] = e\n",
    "df.loc[df['Rejection_Reason'].str\n",
    "    .contains(r'entrregado',flags = re.IGNORECASE),'Rejection_Reason'] = e\n",
    "df.loc[df['Rejection_Reason'].str\n",
    "    .contains(r'entrega',flags = re.IGNORECASE),'Rejection_Reason'] = e\n",
    "df.loc[df['Rejection_Reason'].str\n",
    "    .contains(r'vendio',flags = re.IGNORECASE),'Rejection_Reason'] = e\n",
    "df.loc[df['Rejection_Reason'].str\n",
    "    .contains(r'entreado',flags = re.IGNORECASE),'Rejection_Reason'] = e\n",
    "df.loc[df['Rejection_Reason'].str\n",
    "    .contains(r'entegado',flags = re.IGNORECASE),'Rejection_Reason'] = e\n",
    "df.loc[df['Rejection_Reason'].str\n",
    "    .contains(r'pagado',flags = re.IGNORECASE),'Rejection_Reason'] = e\n",
    "df.loc[df['Rejection_Reason'].str\n",
    "    .contains(r'vendido',flags = re.IGNORECASE),'Rejection_Reason'] = e\n",
    "df.loc[df['Rejection_Reason'].str\n",
    "    .contains(r'enttregado',flags = re.IGNORECASE),'Rejection_Reason'] = e\n",
    "df.loc[df['Rejection_Reason'].str\n",
    "    .contains(r'100%',flags = re.IGNORECASE),'Rejection_Reason'] = e\n",
    "df.loc[df['Rejection_Reason'].str\n",
    "    .contains(r'vendida',flags = re.IGNORECASE),'Rejection_Reason'] = e\n",
    "df.loc[df['Rejection_Reason'].str\n",
    "    .contains(r'entrrgado',flags = re.IGNORECASE),'Rejection_Reason'] = e\n",
    "df.loc[df['Rejection_Reason'].str\n",
    "    .contains(r'venta',flags = re.IGNORECASE),'Rejection_Reason'] = e\n",
    "df.loc[df['Rejection_Reason'].str\n",
    "    .contains(r'entragado',flags = re.IGNORECASE),'Rejection_Reason'] = e\n",
    "df.loc[df['Rejection_Reason'].str\n",
    "    .contains(r'enttegado',flags = re.IGNORECASE),'Rejection_Reason'] = e\n",
    "df.loc[df['Rejection_Reason'].str\n",
    "    .contains(r'vicitado',flags = re.IGNORECASE),'Rejection_Reason'] = e\n",
    "df.loc[df['Rejection_Reason'].str\n",
    "    .contains(r'vicitada',flags = re.IGNORECASE),'Rejection_Reason'] = e\n",
    "df.loc[df['Rejection_Reason'].str\n",
    "    .contains(r'entrgado',flags = re.IGNORECASE),'Rejection_Reason'] = e\n",
    "df.loc[df['Rejection_Reason'].str\n",
    "    .contains(r'producto no parese',flags = re.IGNORECASE),'Rejection_Reason'] = e\n",
    "df.loc[df['Rejection_Reason'].str\n",
    "    .contains(r'emtregado',flags = re.IGNORECASE),'Rejection_Reason'] = e\n",
    "df.loc[df['Rejection_Reason'].str\n",
    "    .contains(r'ebtregado',flags = re.IGNORECASE),'Rejection_Reason'] = e\n",
    "df.loc[df['Rejection_Reason'].str\n",
    "    .contains(r'enterado',flags = re.IGNORECASE),'Rejection_Reason'] = e\n",
    "df.loc[df['Rejection_Reason'].str\n",
    "    .contains(r'3ntregado',flags = re.IGNORECASE),'Rejection_Reason'] = e\n",
    "df.loc[df['Rejection_Reason'].str\n",
    "    .contains(r'pagada',flags = re.IGNORECASE),'Rejection_Reason'] = e\n",
    "df.loc[df['Rejection_Reason'].str\n",
    "    .contains(r'enttehado',flags = re.IGNORECASE),'Rejection_Reason'] = e\n",
    "df.loc[df['Rejection_Reason'].str\n",
    "    .contains(r'entregsdo',flags = re.IGNORECASE),'Rejection_Reason'] = e"
   ]
  },
  {
   "cell_type": "code",
   "execution_count": 26,
   "id": "0bd42fdd",
   "metadata": {
    "colab": {
     "base_uri": "https://localhost:8080/"
    },
    "executionInfo": {
     "elapsed": 44,
     "status": "ok",
     "timestamp": 1630988455294,
     "user": {
      "displayName": "Fernando Manuel Gamino Torres",
      "photoUrl": "https://lh3.googleusercontent.com/a-/AOh14GjiYo9mTJNaYFrzccPZp7ueV6HgmH2ahC4tgvQX=s64",
      "userId": "13456855925853612789"
     },
     "user_tz": 300
    },
    "id": "0bd42fdd",
    "outputId": "ef8aa6ea-476a-41ee-8dad-c6e5a749f434"
   },
   "outputs": [
    {
     "data": {
      "text/plain": [
       "0"
      ]
     },
     "execution_count": 26,
     "metadata": {},
     "output_type": "execute_result"
    }
   ],
   "source": [
    "df.Rejection_Reason.isnull().sum()"
   ]
  },
  {
   "cell_type": "code",
   "execution_count": 27,
   "id": "a580ca2c",
   "metadata": {
    "executionInfo": {
     "elapsed": 213,
     "status": "ok",
     "timestamp": 1630988455474,
     "user": {
      "displayName": "Fernando Manuel Gamino Torres",
      "photoUrl": "https://lh3.googleusercontent.com/a-/AOh14GjiYo9mTJNaYFrzccPZp7ueV6HgmH2ahC4tgvQX=s64",
      "userId": "13456855925853612789"
     },
     "user_tz": 300
    },
    "id": "a580ca2c"
   },
   "outputs": [],
   "source": [
    "# restablecer los nulos:\n",
    "\n",
    "df['Rejection_Reason'] = df['Rejection_Reason'].replace(\"vacio\", np.nan)"
   ]
  },
  {
   "cell_type": "code",
   "execution_count": 28,
   "id": "1957dec3",
   "metadata": {
    "colab": {
     "base_uri": "https://localhost:8080/",
     "height": 1000
    },
    "executionInfo": {
     "elapsed": 39,
     "status": "ok",
     "timestamp": 1630988455297,
     "user": {
      "displayName": "Fernando Manuel Gamino Torres",
      "photoUrl": "https://lh3.googleusercontent.com/a-/AOh14GjiYo9mTJNaYFrzccPZp7ueV6HgmH2ahC4tgvQX=s64",
      "userId": "13456855925853612789"
     },
     "user_tz": 300
    },
    "id": "1957dec3",
    "outputId": "950b9365-863f-490e-99f7-4745bdbfa805"
   },
   "outputs": [
    {
     "data": {
      "text/plain": [
       "(5883, 29)"
      ]
     },
     "execution_count": 28,
     "metadata": {},
     "output_type": "execute_result"
    }
   ],
   "source": [
    "# Revision archivo\n",
    "df.shape"
   ]
  },
  {
   "cell_type": "code",
   "execution_count": 29,
   "id": "49d33153",
   "metadata": {
    "colab": {
     "base_uri": "https://localhost:8080/"
    },
    "executionInfo": {
     "elapsed": 18,
     "status": "ok",
     "timestamp": 1630988455475,
     "user": {
      "displayName": "Fernando Manuel Gamino Torres",
      "photoUrl": "https://lh3.googleusercontent.com/a-/AOh14GjiYo9mTJNaYFrzccPZp7ueV6HgmH2ahC4tgvQX=s64",
      "userId": "13456855925853612789"
     },
     "user_tz": 300
    },
    "id": "49d33153",
    "outputId": "4aa06c3f-9888-48a0-c52d-914a9a155b85",
    "scrolled": true
   },
   "outputs": [
    {
     "data": {
      "text/plain": [
       "{'10 No está el encargado',\n",
       " 'RECHAZO 01: Cerrado',\n",
       " 'RECHAZO 02: Sin Dinero',\n",
       " 'RECHAZO 03: Producto no solicitado (No Pedido)',\n",
       " 'RECHAZO 04: Cliente No Localizado',\n",
       " 'RECHAZO 05: Error en Captura (Mal digitado)',\n",
       " 'RECHAZO 06: Mercancía Incorrecta',\n",
       " 'RECHAZO 09: Diferencia de precio',\n",
       " 'RECHAZO 10: Producto Agotado',\n",
       " 'RECHAZO 97: Cancelado por el cliente',\n",
       " 'e.tregado ',\n",
       " 'entregado',\n",
       " nan,\n",
       " 'pedido solicitado en ubicacion distinta'}"
      ]
     },
     "execution_count": 29,
     "metadata": {},
     "output_type": "execute_result"
    }
   ],
   "source": [
    "set(df['Rejection_Reason'])"
   ]
  },
  {
   "cell_type": "code",
   "execution_count": 30,
   "id": "092d11cb",
   "metadata": {
    "colab": {
     "base_uri": "https://localhost:8080/",
     "height": 1000
    },
    "executionInfo": {
     "elapsed": 13,
     "status": "ok",
     "timestamp": 1630988455476,
     "user": {
      "displayName": "Fernando Manuel Gamino Torres",
      "photoUrl": "https://lh3.googleusercontent.com/a-/AOh14GjiYo9mTJNaYFrzccPZp7ueV6HgmH2ahC4tgvQX=s64",
      "userId": "13456855925853612789"
     },
     "user_tz": 300
    },
    "id": "092d11cb",
    "outputId": "d8ef44c1-7701-4285-c06c-c4d8695c54bc"
   },
   "outputs": [
    {
     "data": {
      "text/html": [
       "<div>\n",
       "<style scoped>\n",
       "    .dataframe tbody tr th:only-of-type {\n",
       "        vertical-align: middle;\n",
       "    }\n",
       "\n",
       "    .dataframe tbody tr th {\n",
       "        vertical-align: top;\n",
       "    }\n",
       "\n",
       "    .dataframe thead th {\n",
       "        text-align: right;\n",
       "    }\n",
       "</style>\n",
       "<table border=\"1\" class=\"dataframe\">\n",
       "  <thead>\n",
       "    <tr style=\"text-align: right;\">\n",
       "      <th></th>\n",
       "      <th>Logistic Distributor</th>\n",
       "      <th>Delivery Route</th>\n",
       "      <th>Delivery Name</th>\n",
       "      <th>Region</th>\n",
       "      <th>City</th>\n",
       "      <th>Channel</th>\n",
       "      <th>Sub Channel</th>\n",
       "      <th>Customer Type</th>\n",
       "      <th>Store code</th>\n",
       "      <th>Preventa</th>\n",
       "      <th>...</th>\n",
       "      <th>Invoice Date</th>\n",
       "      <th>Invoice Units</th>\n",
       "      <th>Invoiced IEPS</th>\n",
       "      <th>Invoiced IVA</th>\n",
       "      <th>Net Sales Invoice Value</th>\n",
       "      <th>Rejection %</th>\n",
       "      <th>Rejection Value</th>\n",
       "      <th>Rejection % Qty</th>\n",
       "      <th>Rejection Qty</th>\n",
       "      <th>Rejection_Reason</th>\n",
       "    </tr>\n",
       "  </thead>\n",
       "  <tbody>\n",
       "    <tr>\n",
       "      <th>0</th>\n",
       "      <td>Jose Manuel Fuentes</td>\n",
       "      <td>Guadalajara-07</td>\n",
       "      <td>Guadalajara-07</td>\n",
       "      <td>PACIFICO</td>\n",
       "      <td>GDL</td>\n",
       "      <td>Canal Tradicional</td>\n",
       "      <td>Tiendas de abarrotes/misceláneas</td>\n",
       "      <td>8_Tiendas de abarrotes/misceláneas</td>\n",
       "      <td>JC09800029</td>\n",
       "      <td>PVGdl020</td>\n",
       "      <td>...</td>\n",
       "      <td>13/01/2022</td>\n",
       "      <td>14.0</td>\n",
       "      <td>NaN</td>\n",
       "      <td>0.00</td>\n",
       "      <td>NaN</td>\n",
       "      <td>0.000000</td>\n",
       "      <td>0.000</td>\n",
       "      <td>0.0</td>\n",
       "      <td>0</td>\n",
       "      <td>NaN</td>\n",
       "    </tr>\n",
       "    <tr>\n",
       "      <th>1</th>\n",
       "      <td>Jose Manuel Fuentes</td>\n",
       "      <td>Guadalajara-07</td>\n",
       "      <td>Guadalajara-07</td>\n",
       "      <td>PACIFICO</td>\n",
       "      <td>GDL</td>\n",
       "      <td>Canal Tradicional</td>\n",
       "      <td>Tiendas de abarrotes/misceláneas</td>\n",
       "      <td>8_Tiendas de abarrotes/misceláneas</td>\n",
       "      <td>JC12001500</td>\n",
       "      <td>PVGdl020</td>\n",
       "      <td>...</td>\n",
       "      <td>13/01/2022</td>\n",
       "      <td>36.0</td>\n",
       "      <td>NaN</td>\n",
       "      <td>0.00</td>\n",
       "      <td>NaN</td>\n",
       "      <td>0.000000</td>\n",
       "      <td>0.000</td>\n",
       "      <td>0.0</td>\n",
       "      <td>0</td>\n",
       "      <td>NaN</td>\n",
       "    </tr>\n",
       "    <tr>\n",
       "      <th>2</th>\n",
       "      <td>Jose Manuel Fuentes</td>\n",
       "      <td>Guadalajara-07</td>\n",
       "      <td>Guadalajara-07</td>\n",
       "      <td>PACIFICO</td>\n",
       "      <td>GDL</td>\n",
       "      <td>Canal Tradicional</td>\n",
       "      <td>Tiendas de abarrotes/misceláneas</td>\n",
       "      <td>8_Tiendas de abarrotes/misceláneas</td>\n",
       "      <td>JC12001511</td>\n",
       "      <td>PVGdl020</td>\n",
       "      <td>...</td>\n",
       "      <td>13/01/2022</td>\n",
       "      <td>24.0</td>\n",
       "      <td>NaN</td>\n",
       "      <td>0.00</td>\n",
       "      <td>NaN</td>\n",
       "      <td>0.000000</td>\n",
       "      <td>0.000</td>\n",
       "      <td>0.0</td>\n",
       "      <td>0</td>\n",
       "      <td>NaN</td>\n",
       "    </tr>\n",
       "    <tr>\n",
       "      <th>3</th>\n",
       "      <td>Jose Manuel Fuentes</td>\n",
       "      <td>Guadalajara-07</td>\n",
       "      <td>Guadalajara-07</td>\n",
       "      <td>PACIFICO</td>\n",
       "      <td>GDL</td>\n",
       "      <td>Canal Tradicional</td>\n",
       "      <td>Tiendas de abarrotes/misceláneas</td>\n",
       "      <td>8_Tiendas de abarrotes/misceláneas</td>\n",
       "      <td>JC12001487</td>\n",
       "      <td>PVGdl020</td>\n",
       "      <td>...</td>\n",
       "      <td>13/01/2022</td>\n",
       "      <td>16.0</td>\n",
       "      <td>NaN</td>\n",
       "      <td>6.97</td>\n",
       "      <td>NaN</td>\n",
       "      <td>0.000000</td>\n",
       "      <td>0.000</td>\n",
       "      <td>0.0</td>\n",
       "      <td>0</td>\n",
       "      <td>NaN</td>\n",
       "    </tr>\n",
       "    <tr>\n",
       "      <th>4</th>\n",
       "      <td>Jose Manuel Fuentes</td>\n",
       "      <td>Guadalajara-07</td>\n",
       "      <td>Guadalajara-07</td>\n",
       "      <td>PACIFICO</td>\n",
       "      <td>GDL</td>\n",
       "      <td>Canal Tradicional</td>\n",
       "      <td>Tiendas de abarrotes/misceláneas</td>\n",
       "      <td>8_Tiendas de abarrotes/misceláneas</td>\n",
       "      <td>JC12001492</td>\n",
       "      <td>PVGdl020</td>\n",
       "      <td>...</td>\n",
       "      <td>13/01/2022</td>\n",
       "      <td>11.0</td>\n",
       "      <td>NaN</td>\n",
       "      <td>24.22</td>\n",
       "      <td>NaN</td>\n",
       "      <td>-0.000009</td>\n",
       "      <td>-0.002</td>\n",
       "      <td>0.0</td>\n",
       "      <td>0</td>\n",
       "      <td>NaN</td>\n",
       "    </tr>\n",
       "  </tbody>\n",
       "</table>\n",
       "<p>5 rows × 29 columns</p>\n",
       "</div>"
      ],
      "text/plain": [
       "  Logistic Distributor  Delivery Route   Delivery Name    Region City  \\\n",
       "0  Jose Manuel Fuentes  Guadalajara-07  Guadalajara-07  PACIFICO  GDL   \n",
       "1  Jose Manuel Fuentes  Guadalajara-07  Guadalajara-07  PACIFICO  GDL   \n",
       "2  Jose Manuel Fuentes  Guadalajara-07  Guadalajara-07  PACIFICO  GDL   \n",
       "3  Jose Manuel Fuentes  Guadalajara-07  Guadalajara-07  PACIFICO  GDL   \n",
       "4  Jose Manuel Fuentes  Guadalajara-07  Guadalajara-07  PACIFICO  GDL   \n",
       "\n",
       "             Channel                       Sub Channel  \\\n",
       "0  Canal Tradicional  Tiendas de abarrotes/misceláneas   \n",
       "1  Canal Tradicional  Tiendas de abarrotes/misceláneas   \n",
       "2  Canal Tradicional  Tiendas de abarrotes/misceláneas   \n",
       "3  Canal Tradicional  Tiendas de abarrotes/misceláneas   \n",
       "4  Canal Tradicional  Tiendas de abarrotes/misceláneas   \n",
       "\n",
       "                        Customer Type  Store code  Preventa  ... Invoice Date  \\\n",
       "0  8_Tiendas de abarrotes/misceláneas  JC09800029  PVGdl020  ...   13/01/2022   \n",
       "1  8_Tiendas de abarrotes/misceláneas  JC12001500  PVGdl020  ...   13/01/2022   \n",
       "2  8_Tiendas de abarrotes/misceláneas  JC12001511  PVGdl020  ...   13/01/2022   \n",
       "3  8_Tiendas de abarrotes/misceláneas  JC12001487  PVGdl020  ...   13/01/2022   \n",
       "4  8_Tiendas de abarrotes/misceláneas  JC12001492  PVGdl020  ...   13/01/2022   \n",
       "\n",
       "  Invoice Units  Invoiced IEPS Invoiced IVA  Net Sales Invoice Value  \\\n",
       "0          14.0            NaN         0.00                      NaN   \n",
       "1          36.0            NaN         0.00                      NaN   \n",
       "2          24.0            NaN         0.00                      NaN   \n",
       "3          16.0            NaN         6.97                      NaN   \n",
       "4          11.0            NaN        24.22                      NaN   \n",
       "\n",
       "   Rejection %  Rejection Value  Rejection % Qty  Rejection Qty  \\\n",
       "0     0.000000            0.000              0.0              0   \n",
       "1     0.000000            0.000              0.0              0   \n",
       "2     0.000000            0.000              0.0              0   \n",
       "3     0.000000            0.000              0.0              0   \n",
       "4    -0.000009           -0.002              0.0              0   \n",
       "\n",
       "  Rejection_Reason  \n",
       "0              NaN  \n",
       "1              NaN  \n",
       "2              NaN  \n",
       "3              NaN  \n",
       "4              NaN  \n",
       "\n",
       "[5 rows x 29 columns]"
      ]
     },
     "execution_count": 30,
     "metadata": {},
     "output_type": "execute_result"
    }
   ],
   "source": [
    "df.head()"
   ]
  },
  {
   "cell_type": "markdown",
   "id": "ca5a6aa7",
   "metadata": {
    "id": "ca5a6aa7"
   },
   "source": [
    "# Exportación de archivo"
   ]
  },
  {
   "cell_type": "code",
   "execution_count": 31,
   "id": "37e43f17",
   "metadata": {},
   "outputs": [],
   "source": [
    "b_file = fecha_entrega+\"_limpia.xlsx\"\n",
    "joined_path2 = os.path.join(path, b_file)\n",
    "df.to_excel(joined_path2,sheet_name=\"clean_data\", index=False, header=True)"
   ]
  }
 ],
 "metadata": {
  "colab": {
   "name": "homogenizar_valores.ipynb",
   "provenance": []
  },
  "kernelspec": {
   "display_name": "Python 3 (ipykernel)",
   "language": "python",
   "name": "python3"
  },
  "language_info": {
   "codemirror_mode": {
    "name": "ipython",
    "version": 3
   },
   "file_extension": ".py",
   "mimetype": "text/x-python",
   "name": "python",
   "nbconvert_exporter": "python",
   "pygments_lexer": "ipython3",
   "version": "3.9.6"
  }
 },
 "nbformat": 4,
 "nbformat_minor": 5
}
