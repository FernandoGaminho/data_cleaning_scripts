{
 "cells": [
  {
   "cell_type": "code",
   "execution_count": 1,
   "id": "7f1a7cc1",
   "metadata": {},
   "outputs": [],
   "source": [
    "import pyodbc\n",
    "import pandas as pd"
   ]
  },
  {
   "cell_type": "code",
   "execution_count": 2,
   "id": "9de9324d",
   "metadata": {},
   "outputs": [
    {
     "name": "stdout",
     "output_type": "stream",
     "text": [
      "MS-Access Drivers : ['Microsoft Access Driver (*.mdb, *.accdb)', 'Microsoft Access Text Driver (*.txt, *.csv)']\n"
     ]
    }
   ],
   "source": [
    "msa_drivers = [x for x in pyodbc.drivers() if 'ACCESS' in x.upper()]\n",
    "print(f'MS-Access Drivers : {msa_drivers}')"
   ]
  },
  {
   "cell_type": "code",
   "execution_count": 3,
   "id": "0e3fb19d",
   "metadata": {},
   "outputs": [
    {
     "data": {
      "text/plain": [
       "['Microsoft Access Driver (*.mdb, *.accdb)']"
      ]
     },
     "execution_count": 3,
     "metadata": {},
     "output_type": "execute_result"
    }
   ],
   "source": [
    " [x for x in pyodbc.drivers() if x.startswith('Microsoft Access Driver')]"
   ]
  },
  {
   "cell_type": "code",
   "execution_count": 4,
   "id": "75e1a29f",
   "metadata": {},
   "outputs": [
    {
     "name": "stdout",
     "output_type": "stream",
     "text": [
      "2021\n"
     ]
    }
   ],
   "source": [
    "conn_str = (\n",
    "    r'DRIVER={Microsoft Access Driver (*.mdb, *.accdb)};'\n",
    "    r'DBQ=C:\\Users\\FernandoManuelGamino\\Documents\\entregas_PBI.accdb;'\n",
    "    )\n",
    "cnxn = pyodbc.connect(conn_str)\n",
    "crsr = cnxn.cursor()\n",
    "for table_info in crsr.tables(tableType='TABLE'):\n",
    "    print(table_info.table_name)\n",
    "    "
   ]
  },
  {
   "cell_type": "code",
   "execution_count": 5,
   "id": "eeaf8bb5",
   "metadata": {},
   "outputs": [],
   "source": [
    "query = \"SELECT * FROM 2021\"\n",
    "df = pd.read_sql(query, cnxn)\n",
    "cnxn.close()"
   ]
  },
  {
   "cell_type": "code",
   "execution_count": 6,
   "id": "eb2d6a64",
   "metadata": {},
   "outputs": [
    {
     "data": {
      "text/plain": [
       "Index(['Id', 'Logistic Distributor', 'Delivery Route', 'Delivery Name',\n",
       "       'Region', 'City', 'Channel', 'Sub Channel', 'Customer Type',\n",
       "       'Store code', 'Preventa', 'Supervisor', 'Store name',\n",
       "       'Actual Order Number', 'Actual Order Date', 'Actual Order Pieces',\n",
       "       'Actual Order IEPS', 'Actual Order IVA', 'Actual Order Value',\n",
       "       'Invoice number', 'Invoice Date', 'Invoice Units', 'Invoiced IEPS',\n",
       "       'Invoiced IVA', 'Net Sales Invoice Value', 'Rejection %',\n",
       "       'Rejection Value', 'Rejection % Qty', 'Rejection Qty',\n",
       "       'Rejection Reason', 'Visitado', 'Estatus', 'Fecha de entrega', 'Día',\n",
       "       'Semana', 'Oficina Comercial', 'Gerencia', 'Rechazo_powerbi',\n",
       "       'Entregado_powerbi', 'Visitado_powerbi'],\n",
       "      dtype='object')"
      ]
     },
     "execution_count": 6,
     "metadata": {},
     "output_type": "execute_result"
    }
   ],
   "source": [
    "df.columns"
   ]
  }
 ],
 "metadata": {
  "kernelspec": {
   "display_name": "Python 3 (ipykernel)",
   "language": "python",
   "name": "python3"
  },
  "language_info": {
   "codemirror_mode": {
    "name": "ipython",
    "version": 3
   },
   "file_extension": ".py",
   "mimetype": "text/x-python",
   "name": "python",
   "nbconvert_exporter": "python",
   "pygments_lexer": "ipython3",
   "version": "3.9.6"
  }
 },
 "nbformat": 4,
 "nbformat_minor": 5
}
